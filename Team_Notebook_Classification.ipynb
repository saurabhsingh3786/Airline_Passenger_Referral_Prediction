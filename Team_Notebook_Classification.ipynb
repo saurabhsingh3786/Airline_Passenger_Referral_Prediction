{
  "nbformat": 4,
  "nbformat_minor": 0,
  "metadata": {
    "colab": {
      "private_outputs": true,
      "provenance": [],
      "collapsed_sections": [
        "vncDsAP0Gaoa",
        "FJNUwmbgGyua",
        "w6K7xa23Elo4",
        "yQaldy8SH6Dl",
        "mDgbUHAGgjLW",
        "HhfV-JJviCcP",
        "E1LdNO3GBkoq",
        "UNO7aBbuBkot",
        "x71ZqKXriCWQ",
        "7hBIi_osiCS2",
        "ibHMNullEQbU",
        "kcPHxCbsEQbX",
        "hv_Ahkn_EQbb",
        "H0kj-8xxnORC",
        "1zzm54UFe0Km",
        "usSJnMXYe0Kr",
        "dauF4eBmngu3",
        "bKJF3rekwFvQ",
        "6yVJwQXYYIHU",
        "ASLCuv3UapmY",
        "0d-inp-SbmlR",
        "KPY9PNRrPmSx",
        "xFWQlqiZzWhk",
        "FB-A7QVGPmS1",
        "CmWu96C1PmS-",
        "RmIJaV-KPmTD",
        "0JClqB5aPmTH",
        "4PaNZf2ZPmTL",
        "fOwsH7k5PmTQ",
        "P5veR4mcPmTU",
        "yDcuNua8PmTY",
        "aU9Q--wYPmTd",
        "lXcqAE4XPmTj",
        "ePZLxD7JPmTn",
        "yFsA1kw0PmTs",
        "myW89L1UPmTw",
        "LaoRr04dPmT1",
        "2mXn4CsgPmT4",
        "5xQxXHJ-PmT8",
        "HbL47lZqPmUB",
        "nzA9-SMkPmUF",
        "UGyvvKYLPmUJ",
        "_oMZ1jkbPmUN",
        "VeOduRZrPmUS",
        "39Y8J9BEPmUX",
        "ZTsyra3KPmUa",
        "ickGcBBOPmUf",
        "78s0tPeSfdtf",
        "JkHLVxqiPmUu",
        "qJPdsmssPmUx",
        "h99Y3AJCPmU0",
        "3lOL_dpKPmVO",
        "UbI0s_V9PmVR",
        "YZ88WHLdPmVV",
        "3kaEiPMzPmVZ",
        "xoG7JLGWPmVc",
        "3zGqR7CXPmVg",
        "pNkKs43RPmVj",
        "wcKDTvBgPmVm",
        "17cQqIcAPmVp",
        "V9dQq9YkPmVs",
        "9RZaKLOaPmVv",
        "QfxGHO4_PmVy",
        "pRaRDYYkPmV1",
        "7ZTuK4iTPmV3",
        "n58dptJVPmV6",
        "Hh42BpQ6PmV8",
        "fJ1karhPPmV_",
        "1uSLH44SSXjC",
        "Kox-XxWzSXjH",
        "YYtjdqUwSXjK",
        "pr272JwnSXjN",
        "qswI8AS8Aqz6",
        "Byud9R9PPmWC",
        "cW3HM4wTPmWD",
        "w_FUVzZhPmWF",
        "qy40zEzVPmWH",
        "t2RBomrYPmWJ",
        "O0rd9oSGPmWL",
        "ovuNbUwW6nsY",
        "xiyOF9F70UgQ",
        "7wuGOrhz0itI",
        "id1riN9m0vUs",
        "578E2V7j08f6",
        "89xtkJwZ18nB",
        "67NQN5KX2AMe",
        "Iwf50b-R2tYG",
        "C74aWNz2AliB",
        "2DejudWSA-a0",
        "pEMng2IbBLp7",
        "rAdphbQ9Bhjc",
        "TNVZ9zx19K6k",
        "nqoHp30x9hH9",
        "rMDnDkt2B6du",
        "yiiVWRdJDDil",
        "1UUpS68QDMuG",
        "kexQrXU-DjzY",
        "T5CmagL3EC8N",
        "BhH2vgX9EjGr",
        "VfCC591jGiD4",
        "OB4l2ZhMeS1U",
        "ArJBuiUVfxKd",
        "4qY1EAkEfxKe",
        "PiV4Ypx8fxKe",
        "TfvqoZmBfxKf",
        "dJ2tPlVmpsJ0",
        "JWYfwnehpsJ1",
        "-jK_YjpMpsJ2",
        "HAih1iBOpsJ2",
        "zVGeBEFhpsJ2",
        "bmKjuQ-FpsJ3",
        "Fze-IPXLpx6K",
        "7AN1z2sKpx6M",
        "9PIHJqyupx6M",
        "_-qAgymDpx6N",
        "Z-hykwinpx6N",
        "h_CCil-SKHpo",
        "cBFFvTBNJzUa",
        "HvGl1hHyA_VK",
        "EyNgTHvd2WFk",
        "KH5McJBi2d8v",
        "iW_Lq9qf2h6X",
        "-Kee-DAl2viO",
        "gCX9965dhzqZ",
        "gIfDvo9L0UH2"
      ],
      "include_colab_link": true
    },
    "kernelspec": {
      "name": "python3",
      "display_name": "Python 3"
    },
    "language_info": {
      "name": "python"
    }
  },
  "cells": [
    {
      "cell_type": "markdown",
      "metadata": {
        "id": "view-in-github",
        "colab_type": "text"
      },
      "source": [
        "<a href=\"https://colab.research.google.com/github/saurabhsingh3786/Airline_Passenger_Referral_Prediction/blob/main/Team_Notebook_Classification.ipynb\" target=\"_parent\"><img src=\"https://colab.research.google.com/assets/colab-badge.svg\" alt=\"Open In Colab\"/></a>"
      ]
    },
    {
      "cell_type": "markdown",
      "source": [
        "# <b><u><center> Airline Passenger Referral Prediction </center></u></b>\n",
        "\n"
      ],
      "metadata": {
        "id": "vncDsAP0Gaoa"
      }
    },
    {
      "cell_type": "markdown",
      "source": [
        "##### **Project Type**    - Classification\n",
        "##### **Contribution**    - Team\n",
        "##### **Team Member 1 -** Bharathwaj Bejjarapu\n",
        "##### **Team Member 2 -** Shriya Chouhan\n",
        "##### **Team Member 3 -** Saurabh Singh"
      ],
      "metadata": {
        "id": "beRrZCGUAJYm"
      }
    },
    {
      "cell_type": "markdown",
      "source": [
        "# **Project Summary -**"
      ],
      "metadata": {
        "id": "FJNUwmbgGyua"
      }
    },
    {
      "cell_type": "markdown",
      "source": [
        "Customer referral is a crucial aspect of business growth and success, and the airline industry is no exception. Satisfied passengers who have had positive experiences with an airline are more likely to refer the airline to their friends, family, and colleagues. Identifying these potential advocates can help airlines improve customer satisfaction and loyalty and attract new customers.\n",
        "\n",
        "In this project, we will use machine learning algorithms to predict whether a passenger will refer an airline to others. We will use a dataset that includes past passengers and their referral behavior, as well as various features such as age, gender, flight class, and route information.\n",
        "\n",
        "Our first step will be to perform preprocess the data by handling missing values, encoding categorical variables, and scaling numeric features and after that exploratory data analysis to gain insights into the data and identify any patterns or correlations .\n",
        "\n",
        "We will then apply several machine learning algorithms, including logistic regression, decision tree, and support vector machines, to predict the likelihood of a passenger becoming a referral. We will also perform feature engineering and selection to improve the performance of our models.\n",
        "\n",
        "Finally, we will evaluate our models using metrics such as accuracy, precision, recall, and F1 score. We will also use techniques such as cross-validation and grid search to tune our hyperparameters and ensure our models generalize well to new data.\n",
        "\n",
        "##Recommendations for Future Work\n",
        "\n",
        "###Collect more data:\n",
        "\n",
        "The dataset used in this project is relatively small. Collecting more data would allow for more accurate predictions. Include other factors: The factors included in this project are not the only factors that influence a passenger's decision to refer an airline. Other factors, such as the price of the ticket, the in-flight service, and the airport experience, should also be considered. Use more advanced machine learning techniques: The machine learning models used in this project are relatively simple. More advanced machine learning techniques, such as deep learning, could be used to improve the accuracy of the predictions."
      ],
      "metadata": {
        "id": "F6v_1wHtG2nS"
      }
    },
    {
      "cell_type": "markdown",
      "source": [
        "# **GitHub Link -**"
      ],
      "metadata": {
        "id": "w6K7xa23Elo4"
      }
    },
    {
      "cell_type": "markdown",
      "source": [
        "https://github.com/bharath977/Airline_passenger_referral_predication\n",
        "https://github.com/ShriyaChouhan/Airline_Passenger_Referral_Prediction\n",
        "https://github.com/saurabhsingh3786/Airline_Passenger_Referral_Prediction"
      ],
      "metadata": {
        "id": "h1o69JH3Eqqn"
      }
    },
    {
      "cell_type": "markdown",
      "source": [
        "# **Problem Statement**\n"
      ],
      "metadata": {
        "id": "yQaldy8SH6Dl"
      }
    },
    {
      "cell_type": "markdown",
      "source": [
        "Data includes airline reviews from 2006 to 2019 for popular airlines around the world withmultiple choice and free text questions. Data is scraped in Spring 2019. The main objectiveis to predict whether passengers will refer the airline to their friends.\n",
        "\n",
        "The problem at hand revolves around the airline's inability to predict which passengers are likely to refer their services to others. Despite the recognized significance of passenger referrals as a driver of customer acquisition and loyalty, the absence of a predictive mechanism hampers the airline's ability to strategically leverage this influential marketing channel. The challenge lies in developing an accurate predictive model that takes into account diverse passenger attributes and behaviors to foresee referral likelihood. This problem obstructs the airline's potential to maximize referrals as a means of enhancing business growth and customer engagement."
      ],
      "metadata": {
        "id": "DpeJGUA3kjGy"
      }
    },
    {
      "cell_type": "markdown",
      "source": [
        "# **General Guidelines** : -  "
      ],
      "metadata": {
        "id": "mDgbUHAGgjLW"
      }
    },
    {
      "cell_type": "markdown",
      "source": [
        "1.   Well-structured, formatted, and commented code is required.\n",
        "2.   Exception Handling, Production Grade Code & Deployment Ready Code will be a plus. Those students will be awarded some additional credits.\n",
        "     \n",
        "     The additional credits will have advantages over other students during Star Student selection.\n",
        "       \n",
        "             [ Note: - Deployment Ready Code is defined as, the whole .ipynb notebook should be executable in one go\n",
        "                       without a single error logged. ]\n",
        "\n",
        "3.   Each and every logic should have proper comments.\n",
        "4. You may add as many number of charts you want. Make Sure for each and every chart the following format should be answered.\n",
        "        \n",
        "\n",
        "```\n",
        "# Chart visualization code\n",
        "```\n",
        "            \n",
        "\n",
        "*   Why did you pick the specific chart?\n",
        "*   What is/are the insight(s) found from the chart?\n",
        "* Will the gained insights help creating a positive business impact?\n",
        "Are there any insights that lead to negative growth? Justify with specific reason.\n",
        "\n",
        "5. You have to create at least 15 logical & meaningful charts having important insights.\n",
        "\n",
        "\n",
        "[ Hints : - Do the Vizualization in  a structured way while following \"UBM\" Rule.\n",
        "\n",
        "U - Univariate Analysis,\n",
        "\n",
        "B - Bivariate Analysis (Numerical - Categorical, Numerical - Numerical, Categorical - Categorical)\n",
        "\n",
        "M - Multivariate Analysis\n",
        " ]\n",
        "\n",
        "\n",
        "\n",
        "\n",
        "\n",
        "6. You may add more ml algorithms for model creation. Make sure for each and every algorithm, the following format should be answered.\n",
        "\n",
        "\n",
        "*   Explain the ML Model used and it's performance using Evaluation metric Score Chart.\n",
        "\n",
        "\n",
        "*   Cross- Validation & Hyperparameter Tuning\n",
        "\n",
        "*   Have you seen any improvement? Note down the improvement with updates Evaluation metric Score Chart.\n",
        "\n",
        "*   Explain each evaluation metric's indication towards business and the business impact pf the ML model used.\n",
        "\n",
        "\n",
        "\n",
        "\n",
        "\n",
        "\n",
        "\n",
        "\n",
        "\n",
        "\n",
        "\n",
        "\n",
        "\n",
        "\n",
        "\n",
        "\n",
        "\n",
        "\n"
      ],
      "metadata": {
        "id": "ZrxVaUj-hHfC"
      }
    },
    {
      "cell_type": "markdown",
      "source": [
        "# ***Let's Begin !***"
      ],
      "metadata": {
        "id": "O_i_v8NEhb9l"
      }
    },
    {
      "cell_type": "markdown",
      "source": [
        "## ***1. Know Your Data***"
      ],
      "metadata": {
        "id": "HhfV-JJviCcP"
      }
    },
    {
      "cell_type": "markdown",
      "source": [
        "### Import Libraries"
      ],
      "metadata": {
        "id": "E1LdNO3GBkoq"
      }
    },
    {
      "cell_type": "code",
      "source": [
        "# Import Libraries\n",
        "import numpy as np\n",
        "import pandas as pd\n",
        "import matplotlib.pyplot as plt\n",
        "import seaborn as sns\n",
        "import warnings\n",
        "warnings.filterwarnings('ignore')\n",
        "#missing value imputation\n",
        "from sklearn.impute import SimpleImputer\n",
        "# hypothesis testing\n",
        "import scipy.stats as stats\n",
        "# categorical encoding\n",
        "from sklearn.preprocessing import LabelEncoder, OneHotEncoder\n",
        "#libraries for text data preprocessing\n",
        "import re\n",
        "import nltk\n",
        "from nltk.corpus import stopwords\n",
        "from nltk.tokenize import word_tokenize\n",
        "from nltk.stem import WordNetLemmatizer\n",
        "from nltk import pos_tag\n",
        "from sklearn.feature_extraction.text import TfidfVectorizer\n",
        "# Import SelectKBest, f_regression for feature selection based on statistical tests\n",
        "from sklearn.feature_selection import SelectKBest, f_regression\n",
        "# Import train_test_split for splitting data into training and testing sets\n",
        "from sklearn.model_selection import train_test_split\n",
        "#libraries for model building\n",
        "from sklearn.linear_model import LogisticRegression\n",
        "from sklearn.tree import DecisionTreeClassifier\n",
        "from sklearn.neighbors import KNeighborsClassifier\n",
        "from sklearn.naive_bayes import GaussianNB\n",
        "from sklearn.svm import SVC\n",
        "# importing model evaluation metrics.\n",
        "from sklearn import metrics\n",
        "from sklearn.metrics import classification_report\n",
        "from sklearn.metrics import confusion_matrix\n",
        "from sklearn.metrics import accuracy_score,precision_score\n",
        "from sklearn.metrics import recall_score,f1_score\n",
        "from sklearn.metrics import roc_curve, roc_auc_score\n",
        "# libraries for cross validation and hyperparameter tuning\n",
        "from sklearn.model_selection import cross_val_score\n",
        "from sklearn.model_selection import RandomizedSearchCV,GridSearchCV"
      ],
      "metadata": {
        "id": "Kctgbtd4Bkos"
      },
      "execution_count": null,
      "outputs": []
    },
    {
      "cell_type": "markdown",
      "source": [
        "### Dataset Loading"
      ],
      "metadata": {
        "id": "UNO7aBbuBkot"
      }
    },
    {
      "cell_type": "code",
      "source": [
        "#importing the dataset from drive\n",
        "from google.colab import drive\n",
        "drive.mount('/content/drive')"
      ],
      "metadata": {
        "id": "zMW28irOrfXn"
      },
      "execution_count": null,
      "outputs": []
    },
    {
      "cell_type": "code",
      "source": [
        "# Load Dataset\n",
        "airline_df = pd.read_excel(\"/content/drive/MyDrive/AlmaBetter/Capstone Projects/Airline Passenger Referral Prediction/data_airline_reviews.xlsx\")"
      ],
      "metadata": {
        "id": "t29OBisTBkov"
      },
      "execution_count": null,
      "outputs": []
    },
    {
      "cell_type": "markdown",
      "source": [
        "### Dataset First View"
      ],
      "metadata": {
        "id": "x71ZqKXriCWQ"
      }
    },
    {
      "cell_type": "code",
      "source": [
        "# Dataset First Five Rows look\n",
        "airline_df.head()"
      ],
      "metadata": {
        "id": "LWNFOSvLl09H"
      },
      "execution_count": null,
      "outputs": []
    },
    {
      "cell_type": "code",
      "source": [
        "# Dataset Last Five Rows look\n",
        "airline_df.tail()"
      ],
      "metadata": {
        "id": "DGdXmwtCDYdL"
      },
      "execution_count": null,
      "outputs": []
    },
    {
      "cell_type": "markdown",
      "source": [
        "### Dataset Rows & Columns count"
      ],
      "metadata": {
        "id": "7hBIi_osiCS2"
      }
    },
    {
      "cell_type": "code",
      "source": [
        "# Dataset Rows & Columns count\n",
        "# Count the rows and columns in the airline dataset\n",
        "num_rows, num_cols = airline_df.shape\n",
        "\n",
        "# Print the results\n",
        "print(f\"Airline dataset has {num_rows} rows and {num_cols} columns.\")"
      ],
      "metadata": {
        "id": "Kllu7SJgmLij"
      },
      "execution_count": null,
      "outputs": []
    },
    {
      "cell_type": "markdown",
      "source": [
        "### Dataset Information"
      ],
      "metadata": {
        "id": "ibHMNullEQbU"
      }
    },
    {
      "cell_type": "code",
      "source": [
        "# Dataset Info\n",
        "airline_df.info()"
      ],
      "metadata": {
        "id": "uqVW65f7EQbW"
      },
      "execution_count": null,
      "outputs": []
    },
    {
      "cell_type": "markdown",
      "source": [
        "#### Duplicate Values"
      ],
      "metadata": {
        "id": "kcPHxCbsEQbX"
      }
    },
    {
      "cell_type": "code",
      "source": [
        "# Dataset Duplicate Value Count\n",
        "duplicate_count = airline_df.duplicated().sum()\n",
        "print(\"Total Duplicate Rows in the DataFrame:\", duplicate_count)"
      ],
      "metadata": {
        "id": "ZcA7CPU4EQbY"
      },
      "execution_count": null,
      "outputs": []
    },
    {
      "cell_type": "code",
      "source": [
        "#droping the null values\n",
        "airline_df.drop_duplicates(inplace = True)"
      ],
      "metadata": {
        "id": "ZX3ZwPbryf3F"
      },
      "execution_count": null,
      "outputs": []
    },
    {
      "cell_type": "markdown",
      "source": [
        "#### Missing Values/Null Values"
      ],
      "metadata": {
        "id": "hv_Ahkn_EQbb"
      }
    },
    {
      "cell_type": "code",
      "source": [
        "# Missing Values/Null Values Count\n",
        "# Missing Value Count Function\n",
        "def show_missing():\n",
        "    missing = airline_df.columns[airline_df.isnull().any()].tolist()\n",
        "    return missing\n",
        "\n",
        "# Missing data counts and percentage\n",
        "print('Missing Data Count')\n",
        "print(airline_df[show_missing()].isnull().sum().sort_values(ascending = False))\n",
        "print('--'*50)\n",
        "print('Missing Data Percentage')\n",
        "print(round(airline_df[show_missing()].isnull().sum().sort_values(ascending = False)/len(airline_df)*100,5))"
      ],
      "metadata": {
        "id": "RjNX7moCEQbc"
      },
      "execution_count": null,
      "outputs": []
    },
    {
      "cell_type": "code",
      "source": [
        "# Visualizing the missing values\n",
        "# Calculate the percentage of missing values in each column for airline_df\n",
        "missing_percent = (airline_df.isnull().sum() / len(airline_df)) * 100\n",
        "\n",
        "# Create a color map\n",
        "cmap = plt.get_cmap('viridis')\n",
        "\n",
        "# Normalize missing percentages to [0, 1] for colormap\n",
        "normalized_missing = missing_percent / 100\n",
        "\n",
        "# Create a bar plot with colors indicating missing values percentage\n",
        "plt.figure(figsize=(13, 6))\n",
        "bars = plt.bar(missing_percent.index, missing_percent, color=cmap(normalized_missing))\n",
        "plt.title('Percentage of Missing Values by Column')\n",
        "plt.xlabel('Columns')\n",
        "plt.ylabel('Percentage')\n",
        "plt.xticks(rotation=45,ha='right')\n",
        "plt.tight_layout()\n",
        "\n",
        "# Add a colorbar to indicate the missing values percentage gradient\n",
        "sm = plt.cm.ScalarMappable(cmap=cmap, norm=plt.Normalize(vmin=0, vmax=1))\n",
        "sm._A = []  # An empty array is required for the colorbar to work\n",
        "cbar = plt.colorbar(sm, pad=0.03)\n",
        "cbar.set_label('Missing Values Percentage')\n",
        "\n",
        "plt.show()\n",
        "\n"
      ],
      "metadata": {
        "id": "hZ1OZki9EQbd"
      },
      "execution_count": null,
      "outputs": []
    },
    {
      "cell_type": "markdown",
      "source": [
        "### What did you know about your dataset?"
      ],
      "metadata": {
        "id": "H0kj-8xxnORC"
      }
    },
    {
      "cell_type": "markdown",
      "source": [
        "**`Insights Gain-`**\n",
        "* Dataset Size: The DataFrame has a total of 131,895 entries (rows).\n",
        "\n",
        "* Data Columns: There are 17 columns in the DataFrame, each representing a different feature.\n",
        "\n",
        "* Non-Null Counts: The \"Non-Null Count\" indicates the number of non-missing (non-null) values in each column. This is important because missing data can impact the quality of the analysis and model performance.\n",
        "\n",
        "* Data Types: The \"Dtype\" column shows the data types of each feature. In our DataFrame, there are seven columns with float64 data type (numeric) and ten columns with object data type (categorical or textual).\n",
        "\n",
        "\n",
        "Insights from the Non-Null Counts:\n",
        "\n",
        "* Some columns have missing data (NaN values). For example, \"airline,\" \"overall,\" \"author,\" \"review_date,\" \"customer_review,\" \"aircraft,\" \"traveller_type,\" \"cabin,\" \"route,\" \"date_flown,\" \"seat_comfort,\" \"cabin_service,\" \"food_bev,\" \"entertainment,\" \"ground_service,\" \"value_for_money,\" and \"recommended\" have some missing values.\n",
        "\n",
        "**Insights from Data Types:**\n",
        "\n",
        "* There are seven columns with numeric data types (float64), which likely represent ratings or scores for different aspects of the airline experience.\n",
        "\n",
        "* Ten columns have the object data type, which can include categorical variables and textual data. Examples are \"airline,\" \"author,\" \"review_date,\" \"customer_review,\" \"aircraft,\" \"traveller_type,\" \"cabin,\" \"route,\" \"date_flown,\" and \"recommended.\"\n",
        "\n"
      ],
      "metadata": {
        "id": "nyEBYqX957T2"
      }
    },
    {
      "cell_type": "markdown",
      "source": [
        "## ***2. Understanding Your Variables***"
      ],
      "metadata": {
        "id": "1zzm54UFe0Km"
      }
    },
    {
      "cell_type": "code",
      "source": [
        "# Dataset Columns\n",
        "# Explore each column in airline_df\n",
        "for column in airline_df.columns:\n",
        "    print(f\"Column: {column}\")\n",
        "    print(\"Data Type:\", airline_df[column].dtype)\n",
        "    print(\"Number of Unique Values:\", airline_df[column].nunique())\n",
        "    print(\"Value Counts:\")\n",
        "    print(airline_df[column].value_counts())\n",
        "    print(\"-\" * 30)"
      ],
      "metadata": {
        "id": "v5g6B4oze0Ko"
      },
      "execution_count": null,
      "outputs": []
    },
    {
      "cell_type": "code",
      "source": [
        "# Dataset Describe For Numerical Features\n",
        "airline_df.describe()"
      ],
      "metadata": {
        "id": "1aCyPagQe0Kp"
      },
      "execution_count": null,
      "outputs": []
    },
    {
      "cell_type": "code",
      "source": [
        "#Categorical Dataset Describe\n",
        "airline_df.describe(exclude=float)"
      ],
      "metadata": {
        "id": "eGQHShoEB9Nk"
      },
      "execution_count": null,
      "outputs": []
    },
    {
      "cell_type": "markdown",
      "source": [
        "### Variables Description"
      ],
      "metadata": {
        "id": "usSJnMXYe0Kr"
      }
    },
    {
      "cell_type": "markdown",
      "source": [
        "**Description Of Features:**\n",
        "\n",
        "* airline: Name of the airline.\n",
        "\n",
        "* overall: Overall point given to the trip between 1 to 10.\n",
        "* author: Author of the trip\n",
        "* reviewdate: Date of the Review\n",
        "* customer review: Review of the customers in free text format\n",
        "* aircraft: Type of the aircraft\n",
        "* travellertype: Type of traveler (e.g. business, leisure)\n",
        "* cabin: Cabin at the flight\n",
        "* date flown: Flight date\n",
        "* seatcomfort: Rated between 1-5\n",
        "* cabin service: Rated between 1-5\n",
        "* foodbev: Rated between 1-5\n",
        "* entertainment: Rated between 1-5\n",
        "* groundservice: Rated between 1-5\n",
        "* valueformoney: Rated between 1-5\n",
        "* recommended: Binary, target variable"
      ],
      "metadata": {
        "id": "aJV4KIxSnxay"
      }
    },
    {
      "cell_type": "markdown",
      "source": [
        "### Check Unique Values for each variable."
      ],
      "metadata": {
        "id": "3IVQyanKe0Kt"
      }
    },
    {
      "cell_type": "code",
      "source": [
        "# Check Unique Values for each variable.\n",
        "for column in airline_df.columns:\n",
        "    unique_values = airline_df[column].unique()\n",
        "    print(f\"Column: {column}\")\n",
        "    print(\"Unique Values:\", unique_values)\n",
        "    print(\"-\" * 30)"
      ],
      "metadata": {
        "id": "oLN0ghAXe0Ku"
      },
      "execution_count": null,
      "outputs": []
    },
    {
      "cell_type": "markdown",
      "source": [
        "## 3. ***Data Wrangling***"
      ],
      "metadata": {
        "id": "dauF4eBmngu3"
      }
    },
    {
      "cell_type": "markdown",
      "source": [
        "### Data Wrangling Code"
      ],
      "metadata": {
        "id": "bKJF3rekwFvQ"
      }
    },
    {
      "cell_type": "markdown",
      "source": [
        "####**Missing Values Handling -**"
      ],
      "metadata": {
        "id": "6yVJwQXYYIHU"
      }
    },
    {
      "cell_type": "code",
      "source": [
        "# Write your code to make your dataset analysis ready.\n",
        "# function for finding Missing values :\n",
        "def missing_values_check(df):\n",
        "    percent_missing = airline_df.isnull().sum() * 100 / len(airline_df)\n",
        "    missing_values_df = pd.DataFrame({'column_name': airline_df.columns,\n",
        "                                     'percent_missing': percent_missing})\n",
        "    return missing_values_df.sort_values('percent_missing',ascending=False)"
      ],
      "metadata": {
        "id": "R4vea9oK457M"
      },
      "execution_count": null,
      "outputs": []
    },
    {
      "cell_type": "code",
      "source": [
        "missing_values_check(airline_df)"
      ],
      "metadata": {
        "id": "lDB3gdlgfmGf"
      },
      "execution_count": null,
      "outputs": []
    },
    {
      "cell_type": "markdown",
      "source": [
        "At first, we would try to handle 'aircraft' feature missing values so there are about 70% missing values here then its good to be drop this feature as it would affect our analysis and ml modelling."
      ],
      "metadata": {
        "id": "eQDrfVI-5e2_"
      }
    },
    {
      "cell_type": "code",
      "source": [
        "airline_df.drop(columns=['aircraft'], inplace=True)"
      ],
      "metadata": {
        "id": "432uT_el55po"
      },
      "execution_count": null,
      "outputs": []
    },
    {
      "cell_type": "markdown",
      "source": [
        "Now take a look at other categorical features here that have missing values which are as airline, author, review_date, customer_review, cabin,traveller_type, date_flown, route and recommended features."
      ],
      "metadata": {
        "id": "tQVRH2Xa6NSI"
      }
    },
    {
      "cell_type": "code",
      "source": [
        "# Drop rows with null values in the airline, author, review_date, customer_review, cabin, date_flown, route and recommended features.\n",
        "airline_df.dropna(subset=['airline', 'author', 'review_date', 'customer_review', 'cabin','traveller_type', 'date_flown','route', 'recommended'], inplace=True)"
      ],
      "metadata": {
        "id": "h4-enFx07HUe"
      },
      "execution_count": null,
      "outputs": []
    },
    {
      "cell_type": "markdown",
      "source": [
        "Now we will handle missing values in numerical features that are overall, entertainment, food_bev, cabin_service, seat_comfort, ground_service and  value_for_money."
      ],
      "metadata": {
        "id": "tpa_pR1mXOVV"
      }
    },
    {
      "cell_type": "code",
      "source": [
        "# List of columns to analyze and impute\n",
        "columns_to_analyze = ['overall','seat_comfort', 'cabin_service', 'food_bev',\n",
        "                      'entertainment', 'ground_service', 'value_for_money']\n",
        "\n",
        "# Create distribution plots for each column\n",
        "for column in columns_to_analyze:\n",
        "    plt.figure(figsize=(8, 5))\n",
        "    sns.histplot(data=airline_df, x=column, kde=True)\n",
        "    plt.title(f'Distribution of {column}')\n",
        "    plt.xlabel(column)\n",
        "    plt.ylabel('Frequency')\n",
        "    plt.tight_layout()\n",
        "    plt.show()\n",
        "\n",
        "    # Calculate statistics for imputation\n",
        "    median_value = airline_df[column].median()\n",
        "    mean_value = airline_df[column].mean()\n",
        "    mode_value = airline_df[column].mode()[0]\n",
        "\n",
        "    print(f\"Column: {column}\")\n",
        "    print(f\"Median Imputation: {median_value:.2f}\")\n",
        "    print(f\"Mean Imputation: {mean_value:.2f}\")\n",
        "    print(f\"Mode Imputation: {mode_value:.2f}\")\n",
        "    print(\"=\"*50)"
      ],
      "metadata": {
        "id": "RkLz7oOu8DWL"
      },
      "execution_count": null,
      "outputs": []
    },
    {
      "cell_type": "markdown",
      "source": [
        "In this code:\n",
        "\n",
        "We create distribution plots for each of the columns you want to analyze using sns.histplot().\n",
        "\n",
        "We calculate and print the statistics for each imputation method (median, mean, mode).\n",
        "\n",
        "Now visualizing the distribution plots to understand the shape of the data distribution and whether it's skewed, symmetric, or contains outliers.\n",
        "\n",
        "The statistics provide a sense of the central tendency of the data, which can help us to decide which imputation strategy might be the best fit."
      ],
      "metadata": {
        "id": "3tPr-FmFAgEq"
      }
    },
    {
      "cell_type": "code",
      "source": [
        "columns_to_impute = ['overall','seat_comfort', 'cabin_service', 'food_bev',\n",
        "                     'entertainment', 'ground_service', 'value_for_money']\n",
        "\n",
        "\n",
        "# Impute missing values with median\n",
        "for column in columns_to_impute:\n",
        "    median_value = airline_df[column].median()  # Calculate median\n",
        "    airline_df[column].fillna(median_value, inplace=True)  # Replace missing values with median\n",
        "\n",
        "# Convert columns to int64\n",
        "for column in columns_to_impute:\n",
        "    airline_df[column] = airline_df[column].astype(int)  # Convert to int64 data type\n",
        "    columns_to_impute = ['overall','seat_comfort', 'cabin_service', 'food_bev',\n",
        "                     'entertainment', 'ground_service', 'value_for_money']\n",
        "\n"
      ],
      "metadata": {
        "id": "VIWJpZjnA0S2"
      },
      "execution_count": null,
      "outputs": []
    },
    {
      "cell_type": "markdown",
      "source": [
        "data follows a symmetric distribution and doesn't have strong outliers,we have the flexibility to choose between mean and median imputation. we are imputing median values and changing datatype float to interger is a common preprocessing step for preparing dataset for machine learning."
      ],
      "metadata": {
        "id": "-hwcZ9lnBys5"
      }
    },
    {
      "cell_type": "code",
      "source": [
        "#check again for missing values\n",
        "airline_df.isnull().sum()"
      ],
      "metadata": {
        "id": "non9mkfXZzwg"
      },
      "execution_count": null,
      "outputs": []
    },
    {
      "cell_type": "markdown",
      "source": [
        "####**Changing review_date and date_flown to datetime -**"
      ],
      "metadata": {
        "id": "ASLCuv3UapmY"
      }
    },
    {
      "cell_type": "code",
      "source": [
        "#changing review_date feature into pandas datetime\n",
        "\n",
        "def handle_review_date(date_review_values):\n",
        "    fin_date = []\n",
        "    for date in date_review_values:\n",
        "        #extracting day\n",
        "        day = date.split()[0]\n",
        "        if len(day) == 3:\n",
        "            day = int(day[:1])\n",
        "        else:\n",
        "            day = int(day[:2])\n",
        "        #extracting month\n",
        "        month = date.split()[1]\n",
        "        month_map = {'January':1,'February':2,'March':3,'April':4,'May':5,'June':6,'July':7,'August':8,'September':9,'October':10,'November':11,'December':12}\n",
        "        month =  month_map[month]\n",
        "        #extracting year\n",
        "        year = date.split()[-1]\n",
        "        fin_date.append(f'{year}-{month}-{day}')\n",
        "    #returning as datetime\n",
        "    return pd.to_datetime(fin_date)"
      ],
      "metadata": {
        "id": "a6NSPzZze1HJ"
      },
      "execution_count": null,
      "outputs": []
    },
    {
      "cell_type": "code",
      "source": [
        "airline_df.review_date = handle_review_date(airline_df.review_date)"
      ],
      "metadata": {
        "id": "f4K_B8E8hA0e"
      },
      "execution_count": null,
      "outputs": []
    },
    {
      "cell_type": "code",
      "source": [
        "\n",
        "#changing date_flown feature into pandas datetime\n",
        "\n",
        "def handle_date_flown(date_flown_values):\n",
        "    fin_date = []\n",
        "    for date in date_flown_values:\n",
        "        if pd.isna(date):\n",
        "            fin_date.append(np.nan)\n",
        "\n",
        "        else:\n",
        "            try:\n",
        "                fin_date.append(pd.to_datetime(date))\n",
        "            except:\n",
        "                year = date.split()[1]\n",
        "                month = date.split()[0]\n",
        "                month_map = {'January':1,'February':2,'March':3,'April':4,'May':5,'June':6,'July':7,'August':8,'September':9,'October':10,'November':11,'December':12}\n",
        "                fin_date.append(pd.to_datetime(f'{year}-{month_map[month]}-01'))\n",
        "\n",
        "    return fin_date\n"
      ],
      "metadata": {
        "id": "oenWvm6zjdBN"
      },
      "execution_count": null,
      "outputs": []
    },
    {
      "cell_type": "code",
      "source": [
        "airline_df.date_flown = handle_date_flown(airline_df.date_flown)\n",
        "airline_df['month'] = airline_df['date_flown'].dt.month"
      ],
      "metadata": {
        "id": "Tlv9BaCRji-S"
      },
      "execution_count": null,
      "outputs": []
    },
    {
      "cell_type": "markdown",
      "source": [
        "####**Dividing route feature into arrival city and departure city -**"
      ],
      "metadata": {
        "id": "0d-inp-SbmlR"
      }
    },
    {
      "cell_type": "code",
      "source": [
        "#creating two features as arrival city and departure city feature\n",
        "\n",
        "def handle_route():\n",
        "    final_route = []\n",
        "    for route in airline_df.route.values:\n",
        "        if pd.isna(route):\n",
        "            final_route.append((np.nan,np.nan))\n",
        "        else:\n",
        "            to_ind = str(route).find(' to ')\n",
        "            via_idx = str(route).find(' via ')\n",
        "            if via_idx == -1:\n",
        "                final_route.append((str(route)[:to_ind],str(route)[to_ind+3:]))\n",
        "            else:\n",
        "                final_route.append((str(route)[:to_ind],str(route)[to_ind+3:via_idx]))\n",
        "    return final_route"
      ],
      "metadata": {
        "id": "qlFfTbGcmGFM"
      },
      "execution_count": null,
      "outputs": []
    },
    {
      "cell_type": "code",
      "source": [
        "airline_df.route = handle_route()\n",
        "airline_df['arrival_city'] = airline_df.route.apply(lambda x: x[0])\n",
        "airline_df['departure_city'] = airline_df.route.apply(lambda x : x[1])\n",
        "airline_df.drop('route',inplace= True,axis= 1)"
      ],
      "metadata": {
        "id": "OMzju5rmoKWj"
      },
      "execution_count": null,
      "outputs": []
    },
    {
      "cell_type": "markdown",
      "source": [
        "### What all manipulations have you done and insights you found?"
      ],
      "metadata": {
        "id": "MSa1f5Uengrz"
      }
    },
    {
      "cell_type": "markdown",
      "source": [
        "Firstly, i drop aircraft feature because it has nearabout 70% null values then i separately handle categorical and numerical features . There is two date columns \"date_flown\" and \"review_date\", these data had stored as object as default so I changed these to panda's Datetime object so that we can use it for EDA much more effectively. And finally I splitted \"route\" features as two features as \"arrival_city\" and \"departure_city\" and dropped \"route\"."
      ],
      "metadata": {
        "id": "tNBUZPBWcnGA"
      }
    },
    {
      "cell_type": "markdown",
      "source": [
        "## ***4. Data Vizualization, Storytelling & Experimenting with charts : Understand the relationships between variables***"
      ],
      "metadata": {
        "id": "KPY9PNRrPmSx"
      }
    },
    {
      "cell_type": "markdown",
      "source": [
        "###`UNIVARIATE ANALYSIS` -"
      ],
      "metadata": {
        "id": "xFWQlqiZzWhk"
      }
    },
    {
      "cell_type": "markdown",
      "source": [
        "#### Chart - 1"
      ],
      "metadata": {
        "id": "FB-A7QVGPmS1"
      }
    },
    {
      "cell_type": "code",
      "source": [
        "# Chart - 1 visualization code\n",
        "#Question-1 : Distribution of some numerical features?\n",
        "\n",
        "# Create a 2x3 grid of subplots\n",
        "fig, axes = plt.subplots(nrows=2, ncols=3, figsize=(15, 10))\n",
        "\n",
        "# Distribution of Overall Ratings\n",
        "sns.histplot(data=airline_df, x='overall', bins=10, kde=True, ax=axes[0, 0])\n",
        "axes[0, 0].set_xlabel('Overall Rating')\n",
        "axes[0, 0].set_ylabel('Frequency')\n",
        "axes[0, 0].set_title('Distribution of Overall Ratings')\n",
        "\n",
        "# Distribution of Seat Comfort Ratings\n",
        "sns.histplot(data=airline_df, x='seat_comfort', bins=5, kde=True, ax=axes[0, 1])\n",
        "axes[0, 1].set_xlabel('Seat Comfort Rating')\n",
        "axes[0, 1].set_ylabel('Frequency')\n",
        "axes[0, 1].set_title('Distribution of Seat Comfort Ratings')\n",
        "\n",
        "# Distribution of Cabin Service Ratings\n",
        "sns.histplot(data=airline_df, x='cabin_service', bins=5, kde=True, ax=axes[0, 2])\n",
        "axes[0, 2].set_xlabel('Cabin Service Rating')\n",
        "axes[0, 2].set_ylabel('Frequency')\n",
        "axes[0, 2].set_title('Distribution of Cabin Service Ratings')\n",
        "\n",
        "# Distribution of Food and Beverage Ratings\n",
        "sns.histplot(data=airline_df, x='food_bev', bins=5, kde=True, ax=axes[1, 0])\n",
        "axes[1, 0].set_xlabel('Food and Beverage Rating')\n",
        "axes[1, 0].set_ylabel('Frequency')\n",
        "axes[1, 0].set_title('Distribution of Food and Beverage Ratings')\n",
        "\n",
        "# Distribution of Entertainment Ratings\n",
        "sns.histplot(data=airline_df, x='entertainment', bins=5, kde=True, ax=axes[1, 1])\n",
        "axes[1, 1].set_xlabel('Entertainment Rating')\n",
        "axes[1, 1].set_ylabel('Frequency')\n",
        "axes[1, 1].set_title('Distribution of Entertainment Ratings')\n",
        "\n",
        "# Distribution of ground service Ratings\n",
        "sns.histplot(data=airline_df, x= 'ground_service', bins=5, kde=True, ax=axes[1, 2])\n",
        "axes[1, 2].set_xlabel('ground service Rating')\n",
        "axes[1, 2].set_ylabel('Frequency')\n",
        "axes[1, 2].set_title('Distribution of ground service Ratings')\n",
        "# Customize the layout and spacing\n",
        "plt.tight_layout()\n",
        "\n",
        "# Show the plot\n",
        "plt.show()\n"
      ],
      "metadata": {
        "id": "lsa4RhnDPmS3"
      },
      "execution_count": null,
      "outputs": []
    },
    {
      "cell_type": "code",
      "source": [
        "\n",
        "# Create a countplot for the distribution of Value for Money Ratings\n",
        "plt.figure(figsize=(8, 6))\n",
        "sns.histplot(data=airline_df, x='value_for_money', bins=6, kde=True)\n",
        "plt.xlabel('Value for Money Rating')\n",
        "plt.ylabel('Frequency')\n",
        "plt.title('Distribution of Value for Money Ratings')\n",
        "plt.show()"
      ],
      "metadata": {
        "id": "CopcrRY01oqg"
      },
      "execution_count": null,
      "outputs": []
    },
    {
      "cell_type": "markdown",
      "source": [
        "##### 1. Why did you pick the specific chart?"
      ],
      "metadata": {
        "id": "CmWu96C1PmS-"
      }
    },
    {
      "cell_type": "markdown",
      "source": [
        "The histplot function with kde is more suitable for continuous numerical data, as it combines a histogram (bar plot) with a smoothed density curve to estimate the underlying distribution of the data.\n",
        "It is useful for visualizing the shape of a continuous distribution and identifying patterns in the data, such as peaks and valleys."
      ],
      "metadata": {
        "id": "vR37TwavPmTB"
      }
    },
    {
      "cell_type": "markdown",
      "source": [
        "##### 2. What is/are the insight(s) found from the chart?"
      ],
      "metadata": {
        "id": "RmIJaV-KPmTD"
      }
    },
    {
      "cell_type": "markdown",
      "source": [
        "* The overall feature ratings of 1 to 2 occur more frequently. From Seat comfort feature, We can say that rating of 1 is highest and rating of 4 is the second highest.\n",
        "* From cabin service feature, We can say that rating of 5 is highest and rating of 1 is the second highest.\n",
        "\n",
        "* The food bev feature ratings of 2,4 and 5 are varies equally.Which means their frequency are approximately equal.\n",
        "\n",
        "* The features of both the entertainment & ground service, We can say that ratings of 3 is highest and ratings of 1 is the second highest.\n",
        "\n",
        "* From value for money feature, It clearly shows that most of the passenger gives ratings of 1 as highest. From this we can say that most of the airline does not provide good service to passenger."
      ],
      "metadata": {
        "id": "Whxzfz80PmTF"
      }
    },
    {
      "cell_type": "markdown",
      "source": [
        "##### 3. Will the gained insights help creating a positive business impact?\n",
        "Are there any insights that lead to negative growth? Justify with specific reason."
      ],
      "metadata": {
        "id": "0JClqB5aPmTH"
      }
    },
    {
      "cell_type": "markdown",
      "source": [
        "Overall, the insights gained suggest areas for improvement and potential positive business impact by addressing specific issues that lead to lower ratings. Improving seat comfort, enhancing food and beverage options, and increasing value for money can contribute to increased passenger satisfaction and loyalty.\n",
        "\n",
        "The potential negative growth could arise from the high frequency of low ratings in overall experience, seat comfort, and value for money. These areas are crucial for passenger satisfaction and could result in negative reviews, decreased repeat business, and a tarnished reputation if not addressed."
      ],
      "metadata": {
        "id": "NjZh2nRCPmTJ"
      }
    },
    {
      "cell_type": "markdown",
      "source": [
        "#### Chart - 2"
      ],
      "metadata": {
        "id": "4PaNZf2ZPmTL"
      }
    },
    {
      "cell_type": "code",
      "source": [
        "# Chart - 2 visualization code\n",
        "#Question-2 : top 10 airlines based on trips?\n",
        "\n",
        "# Get the top 10 airlines based on the frequency of trips\n",
        "top_10_airlines = airline_df['airline'].value_counts().head(10)\n",
        "\n",
        "# Create a bar plot for the top 10 airlines by count\n",
        "plt.figure(figsize=(10, 6))\n",
        "sns.barplot(x=top_10_airlines.values, y=top_10_airlines.index, palette='viridis')\n",
        "plt.xlabel('Number of count')\n",
        "plt.ylabel('Airline')\n",
        "plt.title('Top 10 Airlines by Number of trips')\n",
        "plt.show()\n"
      ],
      "metadata": {
        "id": "udIOkqmJPmTN"
      },
      "execution_count": null,
      "outputs": []
    },
    {
      "cell_type": "markdown",
      "source": [
        "##### 1. Why did you pick the specific chart?"
      ],
      "metadata": {
        "id": "fOwsH7k5PmTQ"
      }
    },
    {
      "cell_type": "markdown",
      "source": [
        "the bar plot is a suitable choice for this visualization because it effectively communicates the frequency of reviews for each airline and allows for easy comparison of the top 10 airlines. It leverages the strengths of bar plots in representing categorical data and making meaningful comparisons."
      ],
      "metadata": {
        "id": "ab6NtHCiPmTS"
      }
    },
    {
      "cell_type": "markdown",
      "source": [
        "##### 2. What is/are the insight(s) found from the chart?"
      ],
      "metadata": {
        "id": "P5veR4mcPmTU"
      }
    },
    {
      "cell_type": "markdown",
      "source": [
        "American Airlines is the most popular airline, with the most number of counts. This suggests that it is a well-known and trusted airline that passengers are comfortable flying with.\n",
        "Spirit Airlines is the second most popular airline, despite having the fewest number of counts. This suggests that it is a popular choice for budget-conscious travelers.\n",
        "United Airlines and British Airways are also popular airlines, with a large number of counts. These airlines offer a variety of destinations and services, making them a good choice for travelers with different needs.\n",
        "China Southern Airlines, Emirates, Delta Air Lines, and Turkish Airlines are all popular airlines in specific regions of the world. For example, China Southern Airlines is a popular choice for travelers to and from China, while Emirates is a popular choice for travelers to and from the Middle East.\n",
        "Frontier Airlines and Qatar Airways are both low-cost carriers. They offer lower fares than other airlines, but they may not offer the same level of service"
      ],
      "metadata": {
        "id": "T8obVe9FPmTX"
      }
    },
    {
      "cell_type": "markdown",
      "source": [
        "##### 3. Will the gained insights help creating a positive business impact?\n",
        "Are there any insights that lead to negative growth? Justify with specific reason."
      ],
      "metadata": {
        "id": "yDcuNua8PmTY"
      }
    },
    {
      "cell_type": "markdown",
      "source": [
        "Yes, the gained insights can help create a positive business impact for airlines. For example, airlines can use the insights to:\n",
        "\n",
        "* Identify areas where they can improve their customer service. For example, if passengers are consistently complaining about the food on board, the airline can look into ways to improve the food quality or offer more food options.\n",
        "* Target their marketing campaigns more effectively. For example, if the airline knows that its target market is budget-conscious travelers, it can focus its marketing efforts on low-cost flights and travel packages.\n",
        "* Develop new products and services that meet the needs of their customers. For example, if the airline knows that its customers are looking for more legroom, it can consider adding more seats with extra legroom to its fleet.\n",
        "\n",
        "The insights can also help airlines avoid negative growth. For example, if the airline knows that its customers are dissatisfied with its customer service, it can take steps to improve its customer service before it starts to impact the airline's bottom line.\n",
        "\n",
        "Here are some insights that could lead to negative growth if not addressed:\n",
        "\n",
        "* Passengers are dissatisfied with the comfort of the seats. This could lead to passengers choosing to fly with other airlines that offer more comfortable seats.\n",
        "* Passengers are dissatisfied with the food on board. This could lead to passengers bringing their own food on board, which could reduce the airline's revenue from food sales.\n",
        "* Passengers are dissatisfied with the customer service. This could lead to passengers choosing to fly with other airlines that offer better customer service.\n",
        "\n",
        "If airlines do not address these issues, it could lead to negative growth in the long run. By addressing these issues, airlines can improve their customer satisfaction and loyalty, which can lead to positive business impact."
      ],
      "metadata": {
        "id": "o1uBQ-37PmTa"
      }
    },
    {
      "cell_type": "markdown",
      "source": [
        "#### Chart - 3"
      ],
      "metadata": {
        "id": "aU9Q--wYPmTd"
      }
    },
    {
      "cell_type": "code",
      "source": [
        "# Chart - 3 visualization code\n",
        "#Question-3 : distribution among some categorical features?\n",
        "\n",
        "# Distribution of Traveller Types\n",
        "plt.figure(figsize=(8, 6))\n",
        "sns.countplot(data=airline_df, x='traveller_type', palette='Set2')\n",
        "plt.xlabel('Traveller Type')\n",
        "plt.ylabel('Frequency')\n",
        "plt.title('Distribution of Traveller Types')\n",
        "plt.xticks(rotation=45)\n",
        "plt.show()\n",
        "\n",
        "# Distribution of Cabin Types\n",
        "plt.figure(figsize=(8, 6))\n",
        "sns.countplot(data=airline_df, x='cabin', palette='Set3')\n",
        "plt.xlabel('Cabin Type')\n",
        "plt.ylabel('Frequency')\n",
        "plt.title('Distribution of Cabin Types')\n",
        "plt.xticks(rotation=45)\n",
        "plt.show()\n",
        "\n",
        "# Distribution of Recommended\n",
        "plt.figure(figsize=(8, 6))\n",
        "sns.countplot(data=airline_df, x='recommended', palette='Pastel1')\n",
        "plt.xlabel('Recommended')\n",
        "plt.ylabel('Frequency')\n",
        "plt.title('Distribution of Recommended')\n",
        "plt.show()"
      ],
      "metadata": {
        "id": "NoGVn_AUPmTh"
      },
      "execution_count": null,
      "outputs": []
    },
    {
      "cell_type": "markdown",
      "source": [
        "##### 1. Why did you pick the specific chart?"
      ],
      "metadata": {
        "id": "lXcqAE4XPmTj"
      }
    },
    {
      "cell_type": "markdown",
      "source": [
        "countplot is particularly suitable for visualizing the distribution of categorical data and is commonly used when you want to understand the frequency of different categories or levels within a variable. It helps provide insights into the distribution and composition of specific features, making it a valuable choice for these types of univariate analyses."
      ],
      "metadata": {
        "id": "DIS_AI1jPmTm"
      }
    },
    {
      "cell_type": "markdown",
      "source": [
        "##### 2. What is/are the insight(s) found from the chart?"
      ],
      "metadata": {
        "id": "ePZLxD7JPmTn"
      }
    },
    {
      "cell_type": "markdown",
      "source": [
        "* Solo Leisure has the highest frequency, indicating that a significant portion of passengers in the dataset are traveling alone.\n",
        "* Economy Class is the most common cabin type among passengers in the dataset, with a significantly higher frequency compared to other types.\n",
        "* More passengers provided a \"no\" recommendation compared to \"yes,\" suggesting that a notable portion of passengers did not have a positive enough experience to recommend the airline."
      ],
      "metadata": {
        "id": "-tC_zrQhPmTp"
      }
    },
    {
      "cell_type": "markdown",
      "source": [
        "##### 3. Will the gained insights help creating a positive business impact?\n",
        "Are there any insights that lead to negative growth? Justify with specific reason."
      ],
      "metadata": {
        "id": "yFsA1kw0PmTs"
      }
    },
    {
      "cell_type": "markdown",
      "source": [
        "Yes, the gained insights can help create a positive business impact for airlines. By understanding the needs and preferences of their customers, airlines can tailor their products and services to meet those needs. This can lead to increased customer satisfaction, loyalty, and revenue.\n",
        "\n",
        "For example, the insight that more passengers prefer Economy Class can help airlines to focus on improving the experience for Economy Class passengers. This could include things like offering more legroom, better food, and more entertainment options. By improving the Economy Class experience, airlines can attract more passengers and boost their bottom line.\n",
        "\n",
        "The insight that more passengers did not recommend the airline can also help airlines to improve their customer service. By understanding the reasons why passengers are not recommending the airline, airlines can take steps to address those issues. This could include things like improving customer service response times, training staff to be more empathetic, and making it easier for customers to get refunds and rebook flights. By improving their customer service, airlines can make their customers more likely to recommend them and boost their business.\n",
        "\n",
        "There are a few insights that could lead to negative growth if not addressed. For example, the insight that the number of passengers who did not recommend the airline is increasing suggests that the airline is not meeting the expectations of its customers. If this trend continues, it could lead to a decrease in customer satisfaction and loyalty, which could hurt the airline's bottom line.\n",
        "\n",
        "Another insight that could lead to negative growth is the fact that the number of passengers in Business Class is declining. This suggests that business travelers are becoming more price-sensitive when it comes to air travel. If this trend continues, it could lead to a decrease in revenue from Business Class passengers."
      ],
      "metadata": {
        "id": "0A9sQfs4PmTu"
      }
    },
    {
      "cell_type": "markdown",
      "source": [
        "#### Chart - 4"
      ],
      "metadata": {
        "id": "myW89L1UPmTw"
      }
    },
    {
      "cell_type": "code",
      "source": [
        "# Chart - 4 visualization code\n",
        "#Question-4 : Get the number of passengers for each cabin class.\n",
        "sns.set_palette('gist_ncar')\n",
        "airline_df['cabin'].value_counts().plot(kind='pie',autopct='%1.0f%%',figsize=(10,5))"
      ],
      "metadata": {
        "id": "i0Wfy_aKPmTz"
      },
      "execution_count": null,
      "outputs": []
    },
    {
      "cell_type": "markdown",
      "source": [
        "##### 1. Why did you pick the specific chart?"
      ],
      "metadata": {
        "id": "LaoRr04dPmT1"
      }
    },
    {
      "cell_type": "markdown",
      "source": [
        "the pie chart provides a valuable overview of the demographics of airline passengers. It shows that economy class is the most popular class, followed by premium economy, business class, and first class. This information can be useful for airlines in making decisions about their pricing and service offerings."
      ],
      "metadata": {
        "id": "vE-BLB31PmT2"
      }
    },
    {
      "cell_type": "markdown",
      "source": [
        "##### 2. What is/are the insight(s) found from the chart?"
      ],
      "metadata": {
        "id": "2mXn4CsgPmT4"
      }
    },
    {
      "cell_type": "markdown",
      "source": [
        "\n",
        "* The chart shows a pie chart that depicts the percentage of passengers in different classes of airlines. The pie chart shows that the economy class accounts for 79% of all passengers, while the first class accounts for 3% of all passengers. The premium economy accounts for 4% of all passengers, while the business class accounts for 15% of all passengers.\n",
        "\n",
        "* This pie chart provides some interesting insights into the demographics of airline passengers. It shows that the vast majority of airline passengers travel in economy class. This is likely due to the fact that economy class tickets are the most affordable. First class and business class tickets are much more expensive, and therefore only a small percentage of passengers can afford to travel in these classes."
      ],
      "metadata": {
        "id": "jrdH63JbPmT7"
      }
    },
    {
      "cell_type": "markdown",
      "source": [
        "##### 3. Will the gained insights help creating a positive business impact?\n",
        "Are there any insights that lead to negative growth? Justify with specific reason."
      ],
      "metadata": {
        "id": "5xQxXHJ-PmT8"
      }
    },
    {
      "cell_type": "markdown",
      "source": [
        "Yes, the gained insights can help create a positive business impact for airlines. Here are some specific examples:\n",
        "\n",
        "* **Focus on economy class passengers.** The vast majority of airline passengers travel in economy class, so it makes sense for airlines to focus their marketing and service offerings on this segment. This could include offering discounts on economy class tickets, providing more comfortable seats in economy class, or improving the in-flight entertainment options for economy class passengers.\n",
        "\n",
        "* **Expand premium economy class offerings.** The percentage of passengers in premium economy class is increasing, so airlines should consider expanding their premium economy class offerings. This could include adding more premium economy seats on their planes, offering more amenities in premium economy class, or charging a lower premium for premium economy tickets.\n",
        "\n",
        "* **Target business travelers with business class offerings.** Business travelers are a valuable segment of the airline market, and they are willing to pay more for a comfortable and convenient travel experience. Airlines can target business travelers with their business class offerings by offering discounts on business class tickets, providing more comfortable seats in business class, or offering amenities that are tailored to business travelers, such as Wi-Fi access and workspaces.\n",
        "\n",
        "The insights from the pie chart could also lead to negative growth for airlines if they are not careful. For example, if airlines focus too much on economy class passengers and neglect their premium class offerings, they may lose business from high-paying customers. Additionally, if airlines raise their prices too much, they may drive away budget-conscious travelers.\n"
      ],
      "metadata": {
        "id": "xxWgT_67PmT-"
      }
    },
    {
      "cell_type": "markdown",
      "source": [
        "#### Chart - 5"
      ],
      "metadata": {
        "id": "HbL47lZqPmUB"
      }
    },
    {
      "cell_type": "code",
      "source": [
        "# Chart - 5 visualization code\n",
        "#Question-5 : in which month passengers travels the most?\n",
        "\n",
        "\n",
        "# Create a bar plot for the distribution of travel months\n",
        "plt.figure(figsize=(10, 6))\n",
        "sns.countplot(data=airline_df, x='month', palette='PuBuGn')\n",
        "plt.xlabel('Month')\n",
        "plt.ylabel('Number of Passengers')\n",
        "plt.title('Distribution of Passengers Travel by Month')\n",
        "plt.xticks(ticks=range(0, 12), labels=['Jan', 'Feb', 'Mar', 'Apr', 'May', 'Jun', 'Jul', 'Aug', 'Sep', 'Oct', 'Nov', 'Dec'])\n",
        "plt.show()\n"
      ],
      "metadata": {
        "id": "LhHDluwuPmUC"
      },
      "execution_count": null,
      "outputs": []
    },
    {
      "cell_type": "markdown",
      "source": [
        "##### 1. Why did you pick the specific chart?"
      ],
      "metadata": {
        "id": "nzA9-SMkPmUF"
      }
    },
    {
      "cell_type": "markdown",
      "source": [
        "The 'month' feature represents categorical data, as it consists of discrete categories (months of the year). Bar plots are particularly effective for visualizing the distribution of categorical data. We want to understand the frequency of passenger travel for each month. Bar plots allow us to represent the count of occurrences for each category (month) in a clear and intuitive manner."
      ],
      "metadata": {
        "id": "vPpAi3dVPmUH"
      }
    },
    {
      "cell_type": "markdown",
      "source": [
        "##### 2. What is/are the insight(s) found from the chart?"
      ],
      "metadata": {
        "id": "UGyvvKYLPmUJ"
      }
    },
    {
      "cell_type": "markdown",
      "source": [
        "* July is the most popular month for travel, with 3410 passengers. This is likely due to the fact that July is a summer month, when people are more likely to take vacations.\n",
        "* August is the second most popular month for travel, with 3321 passengers. This is also likely due to the fact that August is a summer month.\n",
        "* June, December, and September are also popular months for travel, with 3237, 3202, and 3014 passengers, respectively. These months are all in the summer or fall, when the weather is usually good for travel.\n",
        "* The least popular months for travel are January, February, and March, with 2965, 2403, and 2494 passengers, respectively. These months are in the winter, when the weather is often cold and/or snowy, which can deter people from traveling."
      ],
      "metadata": {
        "id": "jlQriyodPmUL"
      }
    },
    {
      "cell_type": "markdown",
      "source": [
        "##### 3. Will the gained insights help creating a positive business impact?\n",
        "Are there any insights that lead to negative growth? Justify with specific reason."
      ],
      "metadata": {
        "id": "_oMZ1jkbPmUN"
      }
    },
    {
      "cell_type": "markdown",
      "source": [
        "\n",
        "The insights gained from the chart can help create a positive business impact for airlines and travel agencies in a number of ways.\n",
        "\n",
        "* Airlines can plan their marketing and pricing strategies to target the most popular months for travel. This will help them to maximize their revenue during these months.\n",
        "Travel agencies can plan their itineraries to take advantage of the most popular travel destinations during the most popular months. This will help them to sell more travel packages.\n",
        "* Airlines and travel agencies can develop special promotions and discounts to attract travelers during the least popular months. This will help to increase demand for travel during these months.\n",
        "\n",
        "The insights gained from the image and output can also lead to negative growth for airlines and travel agencies in a few ways.\n",
        "\n",
        "* Airlines may be tempted to overbook flights during the most popular months, which can lead to customer dissatisfaction.\n",
        "* Travel agencies may be tempted to sell more travel packages than they can actually deliver, which can lead to customer cancellations and refunds.\n",
        "* Airlines and travel agencies may be slow to adapt to changes in travel demand, which can lead to lost revenue."
      ],
      "metadata": {
        "id": "AllPOFdIPmUQ"
      }
    },
    {
      "cell_type": "markdown",
      "source": [
        "#### Chart - 6"
      ],
      "metadata": {
        "id": "VeOduRZrPmUS"
      }
    },
    {
      "cell_type": "code",
      "source": [
        "# Chart - 6 visualization code\n",
        "#Question-6: whats the number of passengers based on review date and date flown feature?\n",
        "plt.figure(figsize=(15,5))\n",
        "plt.subplot(1,2,1)\n",
        "airline_df.groupby(airline_df.review_date.dt.year)['review_date'].count().plot(ylabel='Number of Passengers',xticks=range(2015,2019))\n",
        "\n",
        "plt.subplot(1,2,2)\n",
        "airline_df.groupby(airline_df.date_flown.dt.year)['date_flown'].count().plot(ylabel='Number of Passengers',xticks=range(2013,2019))\n",
        "plt.show()"
      ],
      "metadata": {
        "id": "7N8E8DbxPmUU"
      },
      "execution_count": null,
      "outputs": []
    },
    {
      "cell_type": "markdown",
      "source": [
        "##### 1. Why did you pick the specific chart?"
      ],
      "metadata": {
        "id": "39Y8J9BEPmUX"
      }
    },
    {
      "cell_type": "markdown",
      "source": [
        "The lineplot layout allows you to compare the distribution of passenger counts over the years for both review dates and date flown simultaneously. This makes it easy to identify any similarities, differences, or trends between the two perspectives."
      ],
      "metadata": {
        "id": "Lt8LeGyPPmUZ"
      }
    },
    {
      "cell_type": "markdown",
      "source": [
        "##### 2. What is/are the insight(s) found from the chart?"
      ],
      "metadata": {
        "id": "ZTsyra3KPmUa"
      }
    },
    {
      "cell_type": "markdown",
      "source": [
        "The following are some insights that can be gained from the image and output:\n",
        "\n",
        "* The number of passengers and reviews has been increasing over time. This is likely due to a number of factors, such as the growing popularity of air travel and the increasing availability of online review platforms.\n",
        "* The number of reviews is consistently higher than the number of passengers. This suggests that a significant number of passengers take the time to write reviews after their flights.\n",
        "* There is a peak in the number of passengers and reviews in 2018. This is likely due to the fact that 2018 was a record year for air travel.\n",
        "* There is a decline in the number of passengers and reviews in 2019. This is likely due to a number of factors, such as the global economic slowdown and the rise of budget airlines."
      ],
      "metadata": {
        "id": "q-w4WTiLPmUc"
      }
    },
    {
      "cell_type": "markdown",
      "source": [
        "##### 3. Will the gained insights help creating a positive business impact?\n",
        "Are there any insights that lead to negative growth? Justify with specific reason."
      ],
      "metadata": {
        "id": "ickGcBBOPmUf"
      }
    },
    {
      "cell_type": "markdown",
      "source": [
        "**positive impact -**\n",
        "\n",
        "* The airline company can use the insights to improve its customer service. This could involve things like responding to customer complaints more quickly, resolving customer issues more efficiently, and providing better customer support.\n",
        "* The airline company can use the insights to attract more passengers. This could involve things like offering competitive fares, improving its in-flight entertainment, or launching new routes.\n",
        "* The airline company can use the insights to identify trends in the air travel industry. This could help the company to stay ahead of the competition and make informed decisions about its future.\n",
        "\n",
        "The insights gained from the image and output can also lead to negative growth for the airline company in a few ways.\n",
        "\n",
        "* If the airline company does not address the factors that are contributing to the decline in passengers and reviews, it could continue to lose market share.\n",
        "* If the airline company makes changes to its business that are not well-received by customers, it could lose customers and damage its reputation."
      ],
      "metadata": {
        "id": "E3TLmFrEPmUi"
      }
    },
    {
      "cell_type": "markdown",
      "source": [
        "###`BIVARIATE ANALYSIS` -"
      ],
      "metadata": {
        "id": "78s0tPeSfdtf"
      }
    },
    {
      "cell_type": "markdown",
      "source": [
        "#### Chart - 7"
      ],
      "metadata": {
        "id": "JkHLVxqiPmUu"
      }
    },
    {
      "cell_type": "code",
      "source": [
        "# Chart - 7 visualization code\n",
        "#Question-7 : how does overall ratings affects by other ratings?\n",
        "# Set the color palette\n",
        "sns.set_palette('crest')\n",
        "\n",
        "# List of different kinds of ratings columns (excluding 'overall')\n",
        "review_columns = ['seat_comfort', 'cabin_service', 'food_bev', 'entertainment', 'ground_service', 'value_for_money']\n",
        "\n",
        "# Create a grid of subplots\n",
        "fig, axes = plt.subplots(nrows=len(review_columns), ncols=1, figsize=(10, 6 * len(review_columns)))\n",
        "\n",
        "# Loop through each review column and create a bar plot\n",
        "for i, col in enumerate(review_columns):\n",
        "    ax = axes[i]\n",
        "    x = airline_df.groupby('overall')[col].value_counts().unstack()\n",
        "    x.plot(kind='bar', ax=ax)\n",
        "    ax.set_title(f'Relationship between {col.replace(\"_\", \" \").title()} and Overall Ratings')\n",
        "    ax.set_xlabel('Overall Rating')\n",
        "    ax.set_ylabel('Count')\n",
        "    ax.legend(title=col.replace(\"_\", \" \").title(), loc='upper left')\n",
        "\n",
        "# Adjust layout and show the plots\n",
        "plt.tight_layout()\n",
        "plt.show()\n"
      ],
      "metadata": {
        "id": "tSliyzaiPmUv"
      },
      "execution_count": null,
      "outputs": []
    },
    {
      "cell_type": "markdown",
      "source": [
        "##### 1. Why did you pick the specific chart?"
      ],
      "metadata": {
        "id": "qJPdsmssPmUx"
      }
    },
    {
      "cell_type": "markdown",
      "source": [
        "Bar plots are suitable for comparing categorical data, where each category (in this case, each rating value) is represented by a bar. They allow us to easily compare the distribution of different categories across multiple groups (in this case, different 'overall' ratings)."
      ],
      "metadata": {
        "id": "R3OV7ntwPmUz"
      }
    },
    {
      "cell_type": "markdown",
      "source": [
        "##### 2. What is/are the insight(s) found from the chart?"
      ],
      "metadata": {
        "id": "h99Y3AJCPmU0"
      }
    },
    {
      "cell_type": "markdown",
      "source": [
        "The rating for seat_comfort, cabin_service, and food_bev increases with the overall rating. This means that passengers are more likely to be satisfied with these factors if they have a higher overall rating for the airline.\n",
        "The rating for entertainment, ground_service, and value_for_money also increases with the overall rating, but to a lesser extent. This means that these factors are still important for passengers, but they are not as important as seat_comfort, cabin_service, and food_bev."
      ],
      "metadata": {
        "id": "J5QhNXt5PmVM"
      }
    },
    {
      "cell_type": "markdown",
      "source": [
        "##### 3. Will the gained insights help creating a positive business impact?\n",
        "Are there any insights that lead to negative growth? Justify with specific reason."
      ],
      "metadata": {
        "id": "3lOL_dpKPmVO"
      }
    },
    {
      "cell_type": "markdown",
      "source": [
        "Yes, the gained insights can help create a positive business impact for airlines.\n",
        "\n",
        "Here are some specific examples of how the insights can help airlines create a positive business impact:\n",
        "\n",
        "* Airlines can improve their seat comfort by investing in new seats that are more spacious and comfortable.\n",
        "* Airlines can improve their cabin service by hiring more experienced and friendly flight attendants.\n",
        "* Airlines can improve their food and beverage offerings by partnering with top chefs and offering a wider variety of food and drinks.\n",
        "* Airlines can improve their entertainment offerings by installing larger screens and providing more channels.\n",
        "* Airlines can improve their ground service by providing quicker check-in and baggage handling.\n",
        "* Airlines can improve their value for money by offering competitive prices and more affordable fares.\n",
        "\n",
        "\n",
        "There are no insights that I can see that would lead to negative growth for airlines. However, there are some insights that could lead to a slower growth rate if airlines do not address them. For example, if airlines do not improve their seat comfort, cabin service, or food and beverage offerings, passengers may be less likely to choose them over other airlines that offer better services. This could lead to a slower growth rate for the airline."
      ],
      "metadata": {
        "id": "JzveCRfCPmVP"
      }
    },
    {
      "cell_type": "markdown",
      "source": [
        "#### Chart - 8"
      ],
      "metadata": {
        "id": "UbI0s_V9PmVR"
      }
    },
    {
      "cell_type": "code",
      "source": [
        "# Chart - 8 visualization code\n",
        "#Question-8 : how does overall rating effects traveller_type and cabin?\n",
        "\n",
        "# Set the color palette\n",
        "sns.set_palette('crest')\n",
        "\n",
        "# Create a grid of subplots\n",
        "fig, axes = plt.subplots(nrows=2, ncols=1, figsize=(10, 18))\n",
        "\n",
        "# List of categorical features to compare with 'overall'\n",
        "categorical_features = ['traveller_type', 'cabin']\n",
        "\n",
        "# Loop through each categorical feature and create a grouped bar plot\n",
        "for i, feature in enumerate(categorical_features):\n",
        "    ax = axes[i]\n",
        "    sns.countplot(data=airline_df, x=feature, hue='overall', ax=ax)\n",
        "    ax.set_title(f'Comparison of Overall Ratings by {feature.replace(\"_\", \" \").title()}')\n",
        "    ax.set_xlabel(feature.replace(\"_\", \" \").title())\n",
        "    ax.set_ylabel('Count')\n",
        "    ax.legend(title='Overall Rating')\n",
        "\n",
        "# Adjust layout and show the plots\n",
        "plt.tight_layout()\n",
        "plt.show()\n"
      ],
      "metadata": {
        "id": "CGRGwwV0PmVT"
      },
      "execution_count": null,
      "outputs": []
    },
    {
      "cell_type": "markdown",
      "source": [
        "##### 1. Why did you pick the specific chart?"
      ],
      "metadata": {
        "id": "YZ88WHLdPmVV"
      }
    },
    {
      "cell_type": "markdown",
      "source": [
        "the grouped bar plot is well-suited for visualizing and comparing the distribution of 'overall' ratings across different categories of categorical features. It provides a clear and informative way to analyze the relationship between these variables and identify any potential patterns or trends."
      ],
      "metadata": {
        "id": "o85XBa5uPmVX"
      }
    },
    {
      "cell_type": "markdown",
      "source": [
        "##### 2. What is/are the insight(s) found from the chart?"
      ],
      "metadata": {
        "id": "3kaEiPMzPmVZ"
      }
    },
    {
      "cell_type": "markdown",
      "source": [
        "* the average overall rating for solo leisure travellers is 5.08, which is higher than the average overall ratings for business travellers (4.44), couple leisure travellers (4.36), and family leisure travellers (4.32). This suggests that solo leisure travellers are more satisfied with their overall experience with airlines than other types of travellers.\n",
        "* The average overall rating for business class is 6.41, which is significantly higher than the average overall rating for economy class (4.22), first class (6.09), and premium economy (5.17). This suggests that passengers are much more satisfied with their overall experience in business class than in other cabin classes."
      ],
      "metadata": {
        "id": "fqsyzys-PmVa"
      }
    },
    {
      "cell_type": "markdown",
      "source": [
        "##### 3. Will the gained insights help creating a positive business impact?\n",
        "Are there any insights that lead to negative growth? Justify with specific reason."
      ],
      "metadata": {
        "id": "xoG7JLGWPmVc"
      }
    },
    {
      "cell_type": "markdown",
      "source": [
        "Here are some specific examples of how the insights can help airlines create a positive business impact:\n",
        "\n",
        "**Traveller Type -**\n",
        "\n",
        "* Airlines can focus on improving the service they provide to solo leisure travellers by offering more personalized service, such as priority check-in and boarding, and by providing more amenities, such as free Wi-Fi and power outlets.\n",
        "\n",
        "* Airlines can also focus on improving the service they provide to business travellers by offering more flexible ticket policies, such as same-day changes and cancellations, and by providing more premium amenities, such as lie-flat seats and access to airport lounges.\n",
        "\n",
        "**Cabin Type -**\n",
        "\n",
        "* Airlines can focus on improving the space and comfort they provide to economy class passengers by offering seats with more legroom and wider aisles.\n",
        "\n",
        "* Airlines can also focus on improving the amenities they provide to economy class passengers by offering free food and drinks, Wi-Fi, and entertainment options."
      ],
      "metadata": {
        "id": "TJj4VOtnPmVe"
      }
    },
    {
      "cell_type": "markdown",
      "source": [
        "#### Chart - 9"
      ],
      "metadata": {
        "id": "3zGqR7CXPmVg"
      }
    },
    {
      "cell_type": "code",
      "source": [
        "# Chart - 9 visualization code\n",
        "#Question-9 : how recommended feature varies for airlines, traveller_type and cabin?\n",
        "\n",
        "#airline vs recommended\n",
        "airline_count = airline_df.groupby(['airline','recommended']).agg({'recommended': 'count'}).rename(columns = {'recommended': 'count'}).sort_values(by='count',ascending=False).unstack()\n",
        "airline_count[:20].plot(kind = 'bar',figsize = (10,5))\n",
        "plt.legend(['No','Yes'])\n",
        "plt.show()\n",
        "\n",
        "#traveller_type vs recommended\n",
        "traveller_count = airline_df.groupby(['traveller_type','recommended']).agg({'recommended': 'count'}).rename(columns = {'recommended': 'count'}).sort_values(by='count',ascending=False).unstack()\n",
        "traveller_count[:4].plot(kind = 'bar',figsize = (10,5))\n",
        "plt.legend(['No','Yes'])\n",
        "plt.show()\n",
        "\n",
        "#cabin vs recommended\n",
        "cabin_count = airline_df.groupby(['cabin','recommended']).agg({'recommended': 'count'}).rename(columns = {'recommended': 'count'}).sort_values(by='count',ascending=False).unstack()\n",
        "cabin_count[:4].plot(kind = 'bar',figsize = (10,5))\n",
        "plt.legend(['No','Yes'])\n",
        "plt.show()\n"
      ],
      "metadata": {
        "id": "e0aViA-IPmVh"
      },
      "execution_count": null,
      "outputs": []
    },
    {
      "cell_type": "markdown",
      "source": [
        "##### 1. Why did you pick the specific chart?"
      ],
      "metadata": {
        "id": "pNkKs43RPmVj"
      }
    },
    {
      "cell_type": "markdown",
      "source": [
        "Bar plots are easy to understand and interpret. The bars in a bar plot represent the number of passengers who have recommended each airline. The taller the bar, the more passengers have recommended that airline."
      ],
      "metadata": {
        "id": "S3JcpkKYPmVl"
      }
    },
    {
      "cell_type": "markdown",
      "source": [
        "##### 2. What is/are the insight(s) found from the chart?"
      ],
      "metadata": {
        "id": "wcKDTvBgPmVm"
      }
    },
    {
      "cell_type": "markdown",
      "source": [
        "**Recommended vs. Airline:**\n",
        "\n",
        "* Airlines like ANA All Nippon Airways, Aegean Airlines, and Air New Zealand have a higher count of 'yes' (recommended) compared to 'no' (not recommended), indicating positive passenger sentiment.\n",
        "* Airlines like Adria Airways, Air Arabia, and Alaska Airlines have a relatively lower count of 'yes' and higher count of 'no', suggesting areas for improvement in passenger recommendations.\n",
        "\n",
        "**Recommended vs. Traveller Type:**\n",
        "\n",
        "* Passengers traveling for business ('Business') have a higher count of 'yes' compared to 'no', indicating that business travelers tend to provide more positive recommendations.\n",
        "* Passengers traveling as couples ('Couple Leisure') and solo travelers ('Solo Leisure') also have a relatively balanced distribution of 'yes' and 'no' recommendations.\n",
        "\n",
        "**Recommended vs. Cabin:**\n",
        "\n",
        "* Passengers in 'Economy Class' have a higher count of both 'yes' and 'no' recommendations, indicating varied experiences and preferences in this cabin class.\n",
        "* Passengers in 'Business Class' have a higher count of 'yes' recommendations, suggesting a positive reception of services and amenities in this premium cabin.\n",
        "* Passengers in 'First Class' and 'Premium Economy' also have a relatively balanced distribution of 'yes' and 'no' recommendations."
      ],
      "metadata": {
        "id": "VrtxZ0-4PmVn"
      }
    },
    {
      "cell_type": "markdown",
      "source": [
        "##### 3. Will the gained insights help creating a positive business impact?\n",
        "Are there any insights that lead to negative growth? Justify with specific reason."
      ],
      "metadata": {
        "id": "17cQqIcAPmVp"
      }
    },
    {
      "cell_type": "markdown",
      "source": [
        "Positive Business Impact:\n",
        "\n",
        "1. Enhanced Passenger Experience: Airlines that have a higher count of 'yes' recommendations are likely to benefit from increased customer loyalty and positive word-of-mouth. Positive passenger experiences contribute to a strong brand reputation, leading to repeat business and attracting new customers.\n",
        "\n",
        "2. Focus on Business Travelers: The analysis shows that business travelers tend to provide more positive recommendations. Airlines can leverage this insight by offering tailored services and amenities to cater to the needs of business travelers, potentially leading to increased bookings and loyalty from this valuable segment.\n",
        "\n",
        "3. Premium Cabin Services: Passengers in 'Business Class' and 'First Class' cabins have a higher count of 'yes' recommendations. Airlines can capitalize on this by further enhancing premium cabin services to justify higher fares and attract luxury-seeking travelers.\n",
        "\n",
        "Negative Growth Insights:\n",
        "\n",
        "1. Areas of Improvement: Airlines with a higher count of 'no' recommendations may experience negative growth if the reasons behind these non-recommendations are not addressed. Negative experiences can lead to decreased customer satisfaction, negative reviews, and reduced repeat business.\n",
        "\n",
        "2. Economy Class Challenges: The distribution of 'yes' and 'no' recommendations among passengers in 'Economy Class' suggests mixed experiences. Failure to address concerns related to comfort, service quality, and amenities in economy class could lead to decreased customer loyalty and lower passenger retention."
      ],
      "metadata": {
        "id": "oJvzwyWNPmVq"
      }
    },
    {
      "cell_type": "markdown",
      "source": [
        "#### Chart - 10"
      ],
      "metadata": {
        "id": "V9dQq9YkPmVs"
      }
    },
    {
      "cell_type": "code",
      "source": [
        "# Chart - 10 visualization code\n",
        "#Question-10 : what are  other ratings in traveller_type and cabin given by passengers?\n",
        "\n",
        "\n",
        "# Set the color palette\n",
        "sns.set_palette('Set2')\n",
        "\n",
        "# List of different kinds of ratings columns\n",
        "rating_columns = ['seat_comfort', 'cabin_service', 'food_bev', 'entertainment', 'ground_service', 'value_for_money']\n",
        "\n",
        "# Create a grid of subplots\n",
        "fig, axes = plt.subplots(nrows=len(rating_columns), ncols=2, figsize=(15, 6 * len(rating_columns)))\n",
        "\n",
        "# Loop through each rating column and create bar plots for 'traveller_type' and 'cabin'\n",
        "for i, col in enumerate(rating_columns):\n",
        "    ax1 = axes[i, 0]\n",
        "    ax2 = axes[i, 1]\n",
        "\n",
        "    # Bar plot for 'traveller_type'\n",
        "    sns.barplot(data=airline_df, x='traveller_type', y=col,hue = airline_df['recommended'], ax=ax1)\n",
        "    ax1.set_title(f'{col.replace(\"_\", \" \").title()} by Traveller Type')\n",
        "    ax1.set_xlabel('Traveller Type')\n",
        "    ax1.set_ylabel(col.replace(\"_\", \" \").title())\n",
        "    ax1.tick_params(axis='x', rotation=45)\n",
        "\n",
        "\n",
        "    # Box plot for 'cabin'\n",
        "    sns.boxplot(data=airline_df, x='cabin', y=col,hue = airline_df['recommended'],palette= ['blue','yellow'], ax=ax2)\n",
        "    ax2.set_title(f'{col.replace(\"_\", \" \").title()} by Cabin')\n",
        "    ax2.set_xlabel('Cabin')\n",
        "    ax2.set_ylabel(col.replace(\"_\", \" \").title())\n",
        "    ax2.tick_params(axis='x', rotation=45)\n",
        "\n",
        "\n",
        "# Adjust layout and show the plots\n",
        "plt.tight_layout()\n",
        "plt.show()\n"
      ],
      "metadata": {
        "id": "syVdbupRPmVt"
      },
      "execution_count": null,
      "outputs": []
    },
    {
      "cell_type": "markdown",
      "source": [
        "##### 1. Why did you pick the specific chart?"
      ],
      "metadata": {
        "id": "9RZaKLOaPmVv"
      }
    },
    {
      "cell_type": "markdown",
      "source": [
        "By choosing this specific plot, we can efficiently convey information about how different aspects of the flying experience are perceived by different passenger groups, allowing airlines to make informed decisions for improvement and optimization."
      ],
      "metadata": {
        "id": "uQQx1ujrPmVx"
      }
    },
    {
      "cell_type": "markdown",
      "source": [
        "##### 2. What is/are the insight(s) found from the chart?"
      ],
      "metadata": {
        "id": "QfxGHO4_PmVy"
      }
    },
    {
      "cell_type": "markdown",
      "source": [
        "1. Seat Comfort:\n",
        "\n",
        "* Passengers who travel for business purposes tend to rate seat comfort higher compared to other traveller types.\n",
        "* Passengers in First Class cabins generally rate seat comfort higher compared to other cabin types.\n",
        "\n",
        "2. Cabin Service:\n",
        "\n",
        "* Passengers who travel for business purposes rate cabin service higher on average.\n",
        "* Passengers in Business Class cabins tend to rate cabin service higher compared to other cabin types.\n",
        "\n",
        "3. Food and Beverage:\n",
        "\n",
        "* Passengers traveling solo tend to rate the food and beverage quality higher on average.\n",
        "* Passengers in Business Class cabins rate food and beverage quality higher compared to other cabin types.\n",
        "\n",
        "4. Entertainment:\n",
        "\n",
        "* Passengers who travel for business purposes tend to rate entertainment higher on average.\n",
        "* Passengers in Business Class and First Class cabins generally rate entertainment higher compared to other cabin types.\n",
        "5. Ground Service:\n",
        "\n",
        "* Passengers who travel for business purposes rate ground service higher on average.\n",
        "* Passengers in Business Class cabins tend to rate ground service higher compared to other cabin types.\n",
        "\n",
        "6. Value for Money:\n",
        "\n",
        "* Passengers traveling solo tend to rate value for money higher on average.\n",
        "* Passengers in Business Class cabins rate value for money higher compared to other cabin types."
      ],
      "metadata": {
        "id": "0Vnnniv5PmVz"
      }
    },
    {
      "cell_type": "markdown",
      "source": [
        "##### 3. Will the gained insights help creating a positive business impact?\n",
        "Are there any insights that lead to negative growth? Justify with specific reason."
      ],
      "metadata": {
        "id": "pRaRDYYkPmV1"
      }
    },
    {
      "cell_type": "markdown",
      "source": [
        "Yes, the gained insights will help create a positive business impact for airlines. By understanding what passengers value most, airlines can focus on improving those aspects of their service. This will lead to happier passengers, which will in turn lead to increased customer loyalty and repeat business.\n",
        "\n",
        "Here are some specific examples of how the insights can be used to create a positive business impact:\n",
        "\n",
        "* Airlines can improve seat comfort in economy class by installing wider seats with more legroom.\n",
        "* Airlines can improve cabin service in economy class by hiring more flight attendants and training them to provide more personalized attention to passengers.\n",
        "* Airlines can improve food and beverage in economy class by serving meals that are prepared by a chef and served on chinaware.\n",
        "* Airlines can improve entertainment in economy class by increasing the number of channels and movies available on their in-flight entertainment system.\n",
        "* Airlines can improve ground service in economy class by opening more dedicated check-in counters and lounges at the airport.\n",
        "\n",
        "\n",
        "In addition to the insights that lead to positive business impact, there are also some insights that could lead to negative growth. For example, the fact that business class passengers rate the value for money more highly than economy class passengers suggests that airlines may be charging too much for economy class tickets. If airlines do not address this issue, they could lose customers to budget airlines that offer lower fares."
      ],
      "metadata": {
        "id": "rtLBjcyZPmV2"
      }
    },
    {
      "cell_type": "markdown",
      "source": [
        "#### Chart - 11"
      ],
      "metadata": {
        "id": "7ZTuK4iTPmV3"
      }
    },
    {
      "cell_type": "code",
      "source": [
        "# Chart - 11 visualization code\n",
        "#Question-11 : impact of flight month and years on all ratings?\n",
        "\n",
        "# Extract year and month from review_date\n",
        "airline_df['flight_year'] = airline_df['review_date'].dt.year\n",
        "airline_df['flight_month'] = airline_df['review_date'].dt.month\n",
        "\n",
        "# List of different kinds of ratings columns\n",
        "rating_columns = ['overall', 'seat_comfort', 'cabin_service', 'food_bev', 'entertainment', 'ground_service', 'value_for_money']\n",
        "\n",
        "# Create a grid of subplots\n",
        "fig, axes = plt.subplots(nrows=len(rating_columns), ncols=2, figsize=(15, 6 * len(rating_columns)))\n",
        "\n",
        "# Loop through each rating column and create line plots for flight year and month\n",
        "for i, col in enumerate(rating_columns):\n",
        "    ax1 = axes[i, 0]\n",
        "    ax2 = axes[i, 1]\n",
        "\n",
        "    # Line plot for flight year\n",
        "    sns.lineplot(data=airline_df, x='flight_year', y=col, ax=ax1)\n",
        "    ax1.set_title(f'{col.replace(\"_\", \" \").title()} by Flight Year')\n",
        "    ax1.set_xlabel('Flight Year')\n",
        "    ax1.set_ylabel(col.replace(\"_\", \" \").title())\n",
        "    ax1.tick_params(axis='x', rotation=45)\n",
        "\n",
        "    # Line plot for flight month\n",
        "    sns.lineplot(data=airline_df, x='flight_month', y=col, ax=ax2)\n",
        "    ax2.set_title(f'{col.replace(\"_\", \" \").title()} by Flight Month')\n",
        "    ax2.set_xlabel('Flight Month')\n",
        "    ax2.set_ylabel(col.replace(\"_\", \" \").title())\n",
        "    ax2.set_xticks(range(1, 13))\n",
        "    ax2.set_xticklabels(['Jan', 'Feb', 'Mar', 'Apr', 'May', 'Jun', 'Jul', 'Aug', 'Sep', 'Oct', 'Nov', 'Dec'])\n",
        "\n",
        "# Adjust layout and show the plots\n",
        "plt.tight_layout()\n",
        "plt.show()\n"
      ],
      "metadata": {
        "id": "UJHuSyEuPmV4"
      },
      "execution_count": null,
      "outputs": []
    },
    {
      "cell_type": "markdown",
      "source": [
        "##### 1. Why did you pick the specific chart?"
      ],
      "metadata": {
        "id": "n58dptJVPmV6"
      }
    },
    {
      "cell_type": "markdown",
      "source": [
        "Line plots are commonly used to visualize trends or changes in data over time. In this case, we are interested in understanding how ratings have changed over different flight years and months. Line plots allow us to observe any upward or downward trends in ratings as the time variable (year or month) changes."
      ],
      "metadata": {
        "id": "Yh9qYRhKPmV7"
      }
    },
    {
      "cell_type": "markdown",
      "source": [
        "##### 2. What is/are the insight(s) found from the chart?"
      ],
      "metadata": {
        "id": "Hh42BpQ6PmV8"
      }
    },
    {
      "cell_type": "markdown",
      "source": [
        "**Impact of Flight Year on Ratings:**\n",
        "\n",
        "* The overall ratings show a general decreasing trend from 2015 to 2019.\n",
        "* Seat comfort, cabin service, food and beverage, entertainment, and ground service ratings also show a declining trend over the years.\n",
        "* Value for money ratings experienced a decrease initially (2015-2016) and then started to slightly increase.\n",
        "\n",
        "**Impact of Flight Month on Ratings:**\n",
        "\n",
        "* Overall ratings seem to be relatively consistent throughout the year, with a slight increase in the middle months.\n",
        "* Ratings for seat comfort, cabin service, food and beverage, and entertainment show a similar pattern with slight fluctuations.\n",
        "* Ground service and value for money ratings also exhibit a consistent pattern with minor variations."
      ],
      "metadata": {
        "id": "jRlpqUqjPmV-"
      }
    },
    {
      "cell_type": "markdown",
      "source": [
        "##### 3. Will the gained insights help creating a positive business impact?\n",
        "Are there any insights that lead to negative growth? Justify with specific reason."
      ],
      "metadata": {
        "id": "fJ1karhPPmV_"
      }
    },
    {
      "cell_type": "markdown",
      "source": [
        "**Positive Business Impact:**\n",
        "\n",
        "1. Improvement Over Time: If the overall ratings and other specific ratings show an increasing trend over the years, it indicates that the airline's services are improving and passengers are having better experiences. This can lead to positive word-of-mouth, customer loyalty, and an enhanced reputation, ultimately driving more passengers to choose the airline.\n",
        "\n",
        "2. Seasonal Patterns: Identifying seasonal patterns in ratings can help the airline tailor its services and offerings based on peak travel seasons. For example, if there is a consistent drop in ratings during a certain month, the airline can focus on addressing issues specific to that time period.\n",
        "\n",
        "**Areas for Improvement:**\n",
        "\n",
        "1. Declining Ratings: If any ratings show a consistent decline over the years, it signals a potential issue that needs to be addressed. Negative trends in ratings could lead to reduced customer satisfaction, decreased repeat business, and even customer attrition.\n",
        "\n",
        "2. Inconsistent Month-to-Month Ratings: Fluctuations in ratings on a monthly basis could highlight areas of inconsistency in service quality. Identifying the reasons behind these fluctuations and taking corrective actions can help improve the overall passenger experience.\n",
        "\n",
        "3. Contrast with Competitors: Analyzing the airline's ratings in comparison to its competitors can provide insights into areas where the airline may be falling short. If competitors consistently have higher ratings, it's essential to understand why and work towards closing the gap."
      ],
      "metadata": {
        "id": "7OAH6jQMPmWA"
      }
    },
    {
      "cell_type": "markdown",
      "source": [
        "#### Chart - 12"
      ],
      "metadata": {
        "id": "1uSLH44SSXjC"
      }
    },
    {
      "cell_type": "code",
      "source": [
        "# Chart - 12 visualization code\n",
        "#Question-12 : how does overall rating affected recommended and non-recommended?\n",
        "mean_rating_recommended = airline_df[airline_df['recommended'] == 'yes']['overall'].mean()\n",
        "mean_rating_not_recommended = airline_df[airline_df['recommended'] == 'no']['overall'].mean()\n",
        "# Create data for the donut chart\n",
        "labels = ['Recommended', 'Not Recommended']\n",
        "sizes = [mean_rating_recommended, mean_rating_not_recommended]\n",
        "colors = ['#66b3ff','#99ff99']\n",
        "explode = (0.1, 0)  # explode the 1st slice (Recommended)\n",
        "\n",
        "# Create a donut chart\n",
        "plt.pie(sizes, labels=labels, colors=colors, autopct='%.1f%%', startangle=90, pctdistance=0.85, explode=explode)\n",
        "centre_circle = plt.Circle((0,0),0.70,fc='white')\n",
        "fig = plt.gcf()\n",
        "fig.gca().add_artist(centre_circle)\n",
        "\n",
        "# Equal aspect ratio ensures that pie is drawn as a circle\n",
        "plt.tight_layout()\n",
        "plt.title('Mean Overall Rating for Recommended vs. Not Recommended Reviews')\n",
        "plt.show()\n",
        "\n",
        "\n",
        "\n"
      ],
      "metadata": {
        "id": "iuKYYBuwSXjE"
      },
      "execution_count": null,
      "outputs": []
    },
    {
      "cell_type": "markdown",
      "source": [
        "##### 1. Why did you pick the specific chart?"
      ],
      "metadata": {
        "id": "Kox-XxWzSXjH"
      }
    },
    {
      "cell_type": "markdown",
      "source": [
        "I chose the donut chart for this visualization because it effectively represents the distribution of mean overall ratings between recommended and not recommended reviews. The donut chart allows us to visually compare the two categories while also showing the proportion of each category relative to the whole. The use of colors and the center circle helps to emphasize the difference between the two categories and provides a clear visual representation of the data."
      ],
      "metadata": {
        "id": "9SOf4BNkSXjI"
      }
    },
    {
      "cell_type": "markdown",
      "source": [
        "##### 2. What is/are the insight(s) found from the chart?"
      ],
      "metadata": {
        "id": "YYtjdqUwSXjK"
      }
    },
    {
      "cell_type": "markdown",
      "source": [
        "The insight from the donut chart indicates a notable difference in the mean overall ratings between recommended and not recommended reviews. The mean overall rating for recommended reviews is significantly higher compared to the mean overall rating for not recommended reviews . This suggests that reviews that are recommended tend to have much higher overall ratings, indicating a positive sentiment, while not recommended reviews have considerably lower ratings, reflecting a negative sentiment.\n"
      ],
      "metadata": {
        "id": "sHVK4R2ZSXjL"
      }
    },
    {
      "cell_type": "markdown",
      "source": [
        "##### 3. Will the gained insights help creating a positive business impact?\n",
        "Are there any insights that lead to negative growth? Justify with specific reason."
      ],
      "metadata": {
        "id": "pr272JwnSXjN"
      }
    },
    {
      "cell_type": "markdown",
      "source": [
        "The significant difference in mean overall ratings between recommended and not recommended reviews indicates that positive customer sentiment and recommendations are correlated with higher overall ratings. This insight can be leveraged by the airline to focus on improving customer satisfaction, addressing issues highlighted in not recommended reviews, and enhancing the overall travel experience. By doing so, the airline can aim to increase the number of positive reviews and recommendations, which can attract more customers and foster loyalty."
      ],
      "metadata": {
        "id": "0GyezBQdSXjP"
      }
    },
    {
      "cell_type": "markdown",
      "source": [
        "###`MULTIVARIATE ANALYSIS`"
      ],
      "metadata": {
        "id": "qswI8AS8Aqz6"
      }
    },
    {
      "cell_type": "markdown",
      "source": [
        "#### Chart - 14 - Correlation Heatmap"
      ],
      "metadata": {
        "id": "Byud9R9PPmWC"
      }
    },
    {
      "cell_type": "code",
      "source": [
        "# Correlation Heatmap visualization code\n",
        "variables = ['overall', 'seat_comfort', 'cabin_service', 'food_bev', 'entertainment', 'ground_service', 'value_for_money']\n",
        "\n",
        "plt.figure(figsize=(10,8))\n",
        "sns.heatmap(airline_df[variables].corr(),annot=True)\n"
      ],
      "metadata": {
        "id": "S2Gd8uGnPmWC"
      },
      "execution_count": null,
      "outputs": []
    },
    {
      "cell_type": "markdown",
      "source": [
        "##### 1. Why did you pick the specific chart?"
      ],
      "metadata": {
        "id": "cW3HM4wTPmWD"
      }
    },
    {
      "cell_type": "markdown",
      "source": [
        "A heatmap is a useful visualization for quickly identifying patterns of correlation between numerical features in the dataset. It can help in understanding which features have a stronger relationship with each other and may be useful for further analysis or modeling."
      ],
      "metadata": {
        "id": "wsmHBTaQPmWE"
      }
    },
    {
      "cell_type": "markdown",
      "source": [
        "##### 2. What is/are the insight(s) found from the chart?"
      ],
      "metadata": {
        "id": "w_FUVzZhPmWF"
      }
    },
    {
      "cell_type": "markdown",
      "source": [
        "1. Strong Positive Correlations:\n",
        "\n",
        "* The ratings for different aspects of the flight experience are positively correlated with each other. For example, overall ratings are strongly positively correlated with seat_comfort, cabin_service, ground_service, and value_for_money ratings. This indicates that passengers who rate one aspect of the flight experience positively tend to rate other aspects positively as well.\n",
        "\n",
        "2. Moderate to Strong Positive Correlations:\n",
        "\n",
        "* seat_comfort, cabin_service, and value_for_money ratings show strong positive correlations with each other. This suggests that passengers who find the seating comfortable are more likely to rate the cabin service and value for money positively.\n",
        "\n",
        "3. Moderate Positive Correlations:\n",
        "\n",
        "* food_bev ratings are moderately positively correlated with cabin_service and entertainment ratings. This implies that passengers who rate the cabin service and entertainment positively are more likely to rate the food and beverages positively as well.\n",
        "\n",
        "4. Moderate Negative Correlations:\n",
        "\n",
        "* There are no strong negative correlations between the ratings. However, entertainment ratings are moderately negatively correlated with ground_service ratings. This could indicate that passengers who were satisfied with the entertainment options might have had slightly lower satisfaction with ground services."
      ],
      "metadata": {
        "id": "pts3ydwWPmWG"
      }
    },
    {
      "cell_type": "markdown",
      "source": [
        "#### Chart - 15 - Pair Plot"
      ],
      "metadata": {
        "id": "qy40zEzVPmWH"
      }
    },
    {
      "cell_type": "code",
      "source": [
        "# Pair Plot visualization code\n",
        "# Define the list of variables you want to include in the scatterplot matrix\n",
        "variables = ['overall', 'seat_comfort', 'cabin_service', 'food_bev', 'entertainment', 'ground_service', 'value_for_money']\n",
        "\n",
        "# Create a scatterplot matrix using Seaborn\n",
        "sns.set(style='ticks')\n",
        "sns.pairplot(airline_df[variables])\n",
        "\n",
        "# Adjust layout and show the plot\n",
        "plt.tight_layout()\n",
        "plt.show()"
      ],
      "metadata": {
        "id": "BYZ4ykzTPmWI"
      },
      "execution_count": null,
      "outputs": []
    },
    {
      "cell_type": "markdown",
      "source": [
        "##### 1. Why did you pick the specific chart?"
      ],
      "metadata": {
        "id": "t2RBomrYPmWJ"
      }
    },
    {
      "cell_type": "markdown",
      "source": [
        "It is used to create a grid of scatter plots that shows the pairwise relationships between multiple variables in a dataset. It is a useful tool for exploring the correlations between variables in a dataset and identifying any patterns or trends that may exist.\n",
        "\n",
        "Using pairplot can help to identify potential areas of interest for further analysis and may provide valuable insights that can inform decision-making in the app development and marketing processes."
      ],
      "metadata": {
        "id": "aopF_OVnPmWK"
      }
    },
    {
      "cell_type": "markdown",
      "source": [
        "##### 2. What is/are the insight(s) found from the chart?"
      ],
      "metadata": {
        "id": "O0rd9oSGPmWL"
      }
    },
    {
      "cell_type": "markdown",
      "source": [
        "1. Overall Satisfaction vs Other Ratings:\n",
        "\n",
        "* The overall satisfaction rating (overall) is positively correlated with all other ratings, indicating that passengers who give higher ratings in specific categories also tend to give higher overall ratings.\n",
        "* The strongest positive correlation is observed between overall satisfaction and \"value for money\" (0.906), followed by \"ground service\" (0.846) and \"cabin service\" (0.795).\n",
        "\n",
        "2. Seat Comfort and Cabin Service:\n",
        "\n",
        "* \"Seat comfort\" and \"cabin service\" are moderately positively correlated (0.733), suggesting that passengers who rate seat comfort higher also tend to rate cabin service higher, and vice versa.\n",
        "\n",
        "3. Ground Service and Value for Money:\n",
        "\n",
        "* \"Ground service\" and \"value for money\" are positively correlated (0.796), indicating that passengers who perceive better ground services also tend to rate the airline's value for money more favorably.\n",
        "\n",
        "4. Food and Beverage and Entertainment:\n",
        "\n",
        "* \"Food and beverage\" and \"entertainment\" are positively correlated (0.610), suggesting that passengers who rate the quality of food and beverage higher also tend to rate the entertainment options higher.\n",
        "\n",
        "5. Entertainment and Ground Service:\n",
        "\n",
        "* \"Entertainment\" and \"ground service\" have a weaker positive correlation (0.470), indicating a mild relationship between the two. Passengers who find entertainment satisfying may also perceive better ground services.\n",
        "\n",
        "6. Value for Money and Overall Satisfaction:\n",
        "\n",
        "* \"Value for money\" and \"overall\" have a strong positive correlation (0.906), implying that passengers who feel they are getting good value for their money are more likely to give higher overall satisfaction ratings."
      ],
      "metadata": {
        "id": "qI5-g1IdPmWM"
      }
    },
    {
      "cell_type": "markdown",
      "source": [
        "## ***5. Hypothesis Testing***"
      ],
      "metadata": {
        "id": "ovuNbUwW6nsY"
      }
    },
    {
      "cell_type": "markdown",
      "source": [
        "### Based on your chart experiments, define three hypothetical statements from the dataset. In the next three questions, perform hypothesis testing to obtain final conclusion about the statements through your code and statistical testing."
      ],
      "metadata": {
        "id": "QqQi0DBY6nsa"
      }
    },
    {
      "cell_type": "markdown",
      "source": [
        "* Hypothesis Statement 1:The food and beverage feature ratings of 2, 4, and 5 are equally distributed, indicating that their frequencies are approximately equal.\n",
        "\n",
        "* Hypothesis Statement 2:Passengers who travel in Business Class rate cabin service higher on average compared to passengers who travel in Economy class.\n",
        "\n",
        "* Hypothesis Statement 3:Passengers who travel for Solo Leisure tend to rate seat comfort higher on average compared to passengers who travel for Business purposes."
      ],
      "metadata": {
        "id": "5GXbhqTl6nsb"
      }
    },
    {
      "cell_type": "markdown",
      "source": [
        "### Hypothetical Statement - 1"
      ],
      "metadata": {
        "id": "S-7wzQrR6nsc"
      }
    },
    {
      "cell_type": "markdown",
      "source": [
        "#### 1. State Your research hypothesis as a null hypothesis and alternate hypothesis."
      ],
      "metadata": {
        "id": "Yv1IcONm6nsd"
      }
    },
    {
      "cell_type": "markdown",
      "source": [
        "* Null Hypothesis (H0): The food and beverage feature ratings of 2, 4, and 5 are not equally distributed.\n",
        "* Alternate Hypothesis (H1): The food and beverage feature ratings of 2, 4, and 5 are equally distributed."
      ],
      "metadata": {
        "id": "kZTLxqLi6nse"
      }
    },
    {
      "cell_type": "markdown",
      "source": [
        "#### 2. Perform an appropriate statistical test."
      ],
      "metadata": {
        "id": "KgMewrCa6nsf"
      }
    },
    {
      "cell_type": "code",
      "source": [
        "# Perform Statistical Test to obtain P-Value\n",
        "# Hypothesis 1: Food and beverage ratings 2, 4, 5 are equally distributed\n",
        "food_bev_ratings = airline_df[airline_df['food_bev'].isin([2, 4, 5])]['food_bev']\n",
        "observed_freq = food_bev_ratings.value_counts()\n",
        "expected_freq = len(food_bev_ratings) / 3  # Assuming equal chance for each rating\n",
        "chi2_stat, p_value = stats.chisquare(observed_freq, f_exp=expected_freq)\n",
        "\n",
        "print(\"\\nHypothesis 1:\")\n",
        "print(f\"Chi-square statistic: {chi2_stat}\")\n",
        "print(f\"P-value: {p_value}\")"
      ],
      "metadata": {
        "id": "UdmrnVPE6nsg"
      },
      "execution_count": null,
      "outputs": []
    },
    {
      "cell_type": "markdown",
      "source": [
        "**Insights:**\n",
        "\n",
        "The extremely low p-value suggests strong evidence against the null hypothesis, which assumes that the food and beverage ratings 2, 4, and 5 are equally distributed. Since the p-value is essentially zero, we have strong reason to reject the null hypothesis. This indicates that the distribution of food and beverage ratings 2, 4, and 5 is significantly different from what would be expected under the assumption of equal chances."
      ],
      "metadata": {
        "id": "FsXOE_X7tCKc"
      }
    },
    {
      "cell_type": "markdown",
      "source": [
        "##### Which statistical test have you done to obtain P-Value?"
      ],
      "metadata": {
        "id": "nCl2REEk6nsj"
      }
    },
    {
      "cell_type": "markdown",
      "source": [
        "In the given code, the chi-square test is performed to obtain the p-value. The chi-square test is used to determine if there is a significant association between categorical variables. In this specific case, the chi-square test is used to test whether the observed frequencies of food and beverage ratings 2, 4, and 5 are significantly different from the expected frequencies (assuming an equal chance for each rating)."
      ],
      "metadata": {
        "id": "UA6uaAuc6nsk"
      }
    },
    {
      "cell_type": "markdown",
      "source": [
        "##### Why did you choose the specific statistical test?"
      ],
      "metadata": {
        "id": "4xGDp6296nsl"
      }
    },
    {
      "cell_type": "markdown",
      "source": [
        "I choose the chi-square test for Hypothesis 1 (\"The food and beverage ratings 2, 4, 5 are equally distributed\") because it is an appropriate test for analyzing the distribution of categorical data and assessing whether the observed frequencies significantly differ from the expected frequencies.\n",
        "\n",
        "In this case, we are dealing with categorical data (food and beverage ratings 2, 4, and 5) and want to determine if there is any significant difference in the distribution of these ratings. The chi-square test allows us to compare the observed frequencies of these ratings with the expected frequencies (assuming equal chances for each rating) and assess whether any deviations are statistically significant."
      ],
      "metadata": {
        "id": "oHe0Sl2W6nsm"
      }
    },
    {
      "cell_type": "markdown",
      "source": [
        "### Hypothetical Statement - 2"
      ],
      "metadata": {
        "id": "gwSFDdeS6nsn"
      }
    },
    {
      "cell_type": "markdown",
      "source": [
        "#### 1. State Your research hypothesis as a null hypothesis and alternate hypothesis."
      ],
      "metadata": {
        "id": "9DBKEz1g6nsp"
      }
    },
    {
      "cell_type": "markdown",
      "source": [
        "* Null Hypothesis (H0): Passengers who travel in Business Class do not rate cabin service higher on average compared to passengers who travel in Economy Class.\n",
        "* Alternate Hypothesis (H1): Passengers who travel in Business Class rate cabin service higher on average compared to passengers who travel in Economy Class."
      ],
      "metadata": {
        "id": "Kgw4UtNK6nsp"
      }
    },
    {
      "cell_type": "markdown",
      "source": [
        "#### 2. Perform an appropriate statistical test."
      ],
      "metadata": {
        "id": "6vTTMDa46nsr"
      }
    },
    {
      "cell_type": "code",
      "source": [
        "# Perform Statistical Test to obtain P-Value\n",
        "# Hypothesis 2: Business Class passengers rate cabin service higher than Economy Class passengers\n",
        "business_class_ratings = airline_df[airline_df['cabin'] == 'Business Class']['cabin_service']\n",
        "economy_class_ratings = airline_df[airline_df['cabin'] == 'Economy Class']['cabin_service']\n",
        "t_stat, p_value = stats.ttest_ind(business_class_ratings, economy_class_ratings, equal_var=False)\n",
        "\n",
        "print(\"Hypothesis 2:\")\n",
        "print(f\"T-statistic: {t_stat}\")\n",
        "print(f\"P-value: {p_value}\")"
      ],
      "metadata": {
        "id": "oVwK1G8W6nsr"
      },
      "execution_count": null,
      "outputs": []
    },
    {
      "cell_type": "markdown",
      "source": [
        "**Insights:**\n",
        "\n",
        "Based on the extremely small p-value, we can conclude that there is a statistically significant difference in cabin service ratings between Business Class and Economy Class passengers. In other words, the difference in the mean cabin service ratings is highly unlikely to have occurred by chance alone. Given the low p-value, we can reject the null hypothesis that there is no difference in cabin service ratings between the two classes. The evidence from the data suggests that Business Class passengers rate cabin service significantly higher on average compared to Economy Class passengers."
      ],
      "metadata": {
        "id": "s2TUfG09v67i"
      }
    },
    {
      "cell_type": "markdown",
      "source": [
        "##### Which statistical test have you done to obtain P-Value?"
      ],
      "metadata": {
        "id": "IR-UzWlv6nsu"
      }
    },
    {
      "cell_type": "markdown",
      "source": [
        "In the given code, the independent two-sample t-test is done to obtain the p-value for Hypothesis 2.\n",
        "\n",
        "The two-sample t-test is used to compare the means of two independent groups to determine if there is a statistically significant difference between them. In this case, the t-test is used to compare the mean cabin service ratings of passengers in Business Class with those in Economy Class."
      ],
      "metadata": {
        "id": "q1JppBzS6nsv"
      }
    },
    {
      "cell_type": "markdown",
      "source": [
        "##### Why did you choose the specific statistical test?"
      ],
      "metadata": {
        "id": "IaD-MCT26nsw"
      }
    },
    {
      "cell_type": "markdown",
      "source": [
        "The specific statistical test chosen for Hypothesis 2, which compares the cabin service ratings of passengers in Business Class with those in Economy Class, is the independent two-sample t-test. Here's why this test was chosen:\n",
        "\n",
        "1. Type of Data: The data for cabin service ratings is continuous and numeric, making it suitable for a t-test.\n",
        "\n",
        "2. Comparison of Two Groups: The hypothesis involves comparing the means of two independent groups (Business Class and Economy Class passengers).\n",
        "\n",
        "3. Assumption of Normality: The t-test assumes that the data within each group follows a normal distribution. While this assumption should ideally be tested, if the sample sizes are sufficiently large, the t-test can still provide valid results even if the normality assumption is not perfectly met."
      ],
      "metadata": {
        "id": "rLjB61mw6nsx"
      }
    },
    {
      "cell_type": "markdown",
      "source": [
        "### Hypothetical Statement - 3"
      ],
      "metadata": {
        "id": "egHinFIQ6nsy"
      }
    },
    {
      "cell_type": "markdown",
      "source": [
        "#### 1. State Your research hypothesis as a null hypothesis and alternate hypothesis."
      ],
      "metadata": {
        "id": "Ri89cR_E6nsz"
      }
    },
    {
      "cell_type": "markdown",
      "source": [
        "* Null Hypothesis (H0): Passengers who travel for Solo Leisure do not tend to rate seat comfort higher on average compared to passengers who travel for Business purposes.\n",
        "* Alternate Hypothesis (H1): Passengers who travel for Solo Leisure tend to rate seat comfort higher on average compared to passengers who travel for Business purposes."
      ],
      "metadata": {
        "id": "Loo_-v4h6ns0"
      }
    },
    {
      "cell_type": "markdown",
      "source": [
        "#### 2. Perform an appropriate statistical test."
      ],
      "metadata": {
        "id": "CSlodicJ6ns1"
      }
    },
    {
      "cell_type": "code",
      "source": [
        "# Perform Statistical Test to obtain P-Value\n",
        "# Hypothesis 3: Solo Leisure travelers rate seat comfort higher than Business travelers\n",
        "solo_leisure_ratings = airline_df[airline_df['traveller_type'] == 'Solo Leisure']['seat_comfort']\n",
        "business_travel_ratings = airline_df[airline_df['traveller_type'] == 'Business']['seat_comfort']\n",
        "t_stat, p_value = stats.ttest_ind(solo_leisure_ratings, business_travel_ratings, equal_var=False)\n",
        "\n",
        "print(\"\\nHypothesis 3:\")\n",
        "print(f\"T-statistic: {t_stat}\")\n",
        "print(f\"P-value: {p_value}\")"
      ],
      "metadata": {
        "id": "GSt1eosI6ns2"
      },
      "execution_count": null,
      "outputs": []
    },
    {
      "cell_type": "markdown",
      "source": [
        "**Insight:**\n",
        "\n",
        " Based on this output, we can infer that Solo Leisure travelers tend to rate seat comfort significantly higher on average compared to Business travelers. This implies that Solo Leisure travelers, who are likely traveling for personal and leisure purposes, find the seat comfort to be more satisfactory than Business travelers, who might prioritize work-related factors during their flights."
      ],
      "metadata": {
        "id": "FzAZkEIixtMM"
      }
    },
    {
      "cell_type": "markdown",
      "source": [
        "##### Which statistical test have you done to obtain P-Value?"
      ],
      "metadata": {
        "id": "7LD5wi_N6ns4"
      }
    },
    {
      "cell_type": "markdown",
      "source": [
        "In the provided code for Hypothesis 3, the statistical test used to obtain the p-value is an independent two-sample t-test (also known as the Welch's t-test) for comparing the means of two groups. The specific function used from the SciPy library is `stats.ttest_ind()`.\n",
        "\n",
        "The independent two-sample t-test is suitable for comparing the means of two groups when the assumption of equal variances is not met. In this case, the equal_var=False argument is passed to the stats.ttest_ind() function, indicating that the variances of the two groups are not assumed to be equal."
      ],
      "metadata": {
        "id": "k1b7kRdx6ns5"
      }
    },
    {
      "cell_type": "markdown",
      "source": [
        "##### Why did you choose the specific statistical test?"
      ],
      "metadata": {
        "id": "DohsQvCK6ns6"
      }
    },
    {
      "cell_type": "markdown",
      "source": [
        "Here's why this test was chosen:\n",
        "\n",
        "1. Type of Data: The data consists of two independent groups (Solo Leisure travelers and Business travelers), and we want to compare the means of a continuous variable (seat comfort ratings) between these two groups.\n",
        "\n",
        "2. Sample Size and Normality: The t-test is suitable when the sample sizes are relatively large (typically more than 30) and the distribution of the data is approximately normal. While t-tests are robust to moderate departures from normality, if the sample sizes are very large and the distributions are not extremely skewed, the t-test can still provide valid results.\n",
        "\n",
        "3. Assumption of Equal Variances: The assumption of equal variances between the two groups is not met. In this case, the use of the Welch's t-test is appropriate, as it does not assume equal variances and is more robust when variances differ between groups."
      ],
      "metadata": {
        "id": "m9Ar0_I96ns7"
      }
    },
    {
      "cell_type": "markdown",
      "source": [
        "## ***6. Feature Engineering & Data Pre-processing***"
      ],
      "metadata": {
        "id": "yLjJCtPM0KBk"
      }
    },
    {
      "cell_type": "markdown",
      "source": [
        "### 1. Handling Missing Values"
      ],
      "metadata": {
        "id": "xiyOF9F70UgQ"
      }
    },
    {
      "cell_type": "code",
      "source": [
        "# Handling Missing Values & Missing Value Imputation\n",
        "'''we have done handling to all missing in data wrangling as\n",
        "  we need cleaned and organised data for our analysis'''"
      ],
      "metadata": {
        "id": "iRsAHk1K0fpS"
      },
      "execution_count": null,
      "outputs": []
    },
    {
      "cell_type": "markdown",
      "source": [
        "#### What all missing value imputation techniques have you used and why did you use those techniques?"
      ],
      "metadata": {
        "id": "7wuGOrhz0itI"
      }
    },
    {
      "cell_type": "markdown",
      "source": [
        "**Median Imputation**: Median imputation involves replacing missing values with the median of the non-missing values in the same column. The median is the middle value of a dataset when it is sorted in ascending order. It is robust to outliers and can be a better measure of central tendency when data is skewed."
      ],
      "metadata": {
        "id": "1ixusLtI0pqI"
      }
    },
    {
      "cell_type": "markdown",
      "source": [
        "### 2. Handling Outliers"
      ],
      "metadata": {
        "id": "id1riN9m0vUs"
      }
    },
    {
      "cell_type": "code",
      "source": [
        "# Handling Outliers & Outlier treatments\n",
        "\n",
        "# Identify numerical columns with potential outliers\n",
        "numerical_cols = airline_df.select_dtypes(include='number').columns\n",
        "\n",
        "# Set the z-score threshold for identifying outliers\n",
        "z_score_threshold = 3\n",
        "\n",
        "# Dictionary to store the percentage of outliers for each numerical column\n",
        "percentage_of_outliers = {}\n",
        "\n",
        "# Loop through each numerical column and calculate the percentage of outliers\n",
        "for col in numerical_cols:\n",
        "    col_mean = airline_df[col].mean()\n",
        "    col_std = airline_df[col].std()\n",
        "    z_scores = np.abs((airline_df[col] - col_mean) / col_std)\n",
        "    num_outliers = len(airline_df[z_scores > z_score_threshold])\n",
        "    percentage = (num_outliers / len(airline_df)) * 100\n",
        "    percentage_of_outliers[col] = percentage\n",
        "\n",
        "# Print the percentage of outliers for each numerical column\n",
        "for col, percentage in percentage_of_outliers.items():\n",
        "    print(f\"Percentage of outliers in {col}: {percentage:.2f}%\")\n"
      ],
      "metadata": {
        "id": "M6w2CzZf04JK"
      },
      "execution_count": null,
      "outputs": []
    },
    {
      "cell_type": "markdown",
      "source": [
        "##### What all outlier treatment techniques have you used and why did you use those techniques?"
      ],
      "metadata": {
        "id": "578E2V7j08f6"
      }
    },
    {
      "cell_type": "markdown",
      "source": [
        "As there is no outliers in our dataset, so didnt apply any technique to remove them."
      ],
      "metadata": {
        "id": "uGZz5OrT1HH-"
      }
    },
    {
      "cell_type": "markdown",
      "source": [
        "### 3. Categorical Encoding"
      ],
      "metadata": {
        "id": "89xtkJwZ18nB"
      }
    },
    {
      "cell_type": "code",
      "source": [
        "# Get the categorical columns\n",
        "categorical_columns = airline_df.select_dtypes(include=[\"object\"]).columns.unique()\n",
        "\n",
        "# Print the categorical columns\n",
        "print(categorical_columns)\n"
      ],
      "metadata": {
        "id": "PdaCpri4xs9q"
      },
      "execution_count": null,
      "outputs": []
    },
    {
      "cell_type": "markdown",
      "source": [
        "Here 'customer_review' contains textual data so we will handle it in textual data processing and 'author', 'arrival_city', 'departure_city' features are not so of important use in ml model implementation so we would drop them further when doing feature manipulation."
      ],
      "metadata": {
        "id": "Itm20zti2FO4"
      }
    },
    {
      "cell_type": "code",
      "source": [
        "# Encode your categorical columns\n",
        "# Get the categorical columns\n",
        "categorical_columns = [\"airline\", \"traveller_type\", \"cabin\", \"recommended\"]\n",
        "\n",
        "# Create a label encoder object\n",
        "le = LabelEncoder()\n",
        "\n",
        "# Fit the label encoder to the categorical columns\n",
        "for column in categorical_columns:\n",
        "  airline_df[column] = le.fit_transform(airline_df[column])\n",
        "\n",
        "# Print the encoded dataset\n",
        "airline_df"
      ],
      "metadata": {
        "id": "21JmIYMG2hEo"
      },
      "execution_count": null,
      "outputs": []
    },
    {
      "cell_type": "markdown",
      "source": [
        "#### What all categorical encoding techniques have you used & why did you use those techniques?"
      ],
      "metadata": {
        "id": "67NQN5KX2AMe"
      }
    },
    {
      "cell_type": "markdown",
      "source": [
        "We use label encoding for categorical columns because most machine learning algorithms can only operate on numerical data. Label encoding converts categorical data into numerical data by assigning a unique integer to each category. This allows the machine learning algorithm to understand the relationship between the different categories.\n",
        "\n",
        "Here are some of the advantages of using label encoding:\n",
        "\n",
        "* It is easy to implement and understand.\n",
        "* It is relatively efficient.\n",
        "* It can be used with a variety of machine learning algorithms."
      ],
      "metadata": {
        "id": "UDaue5h32n_G"
      }
    },
    {
      "cell_type": "markdown",
      "source": [
        "### 4. Textual Data Preprocessing\n",
        "(It's mandatory for textual dataset i.e., NLP, Sentiment Analysis, Text Clustering etc.)"
      ],
      "metadata": {
        "id": "Iwf50b-R2tYG"
      }
    },
    {
      "cell_type": "markdown",
      "source": [
        "In our dataset, there is a feature 'customer_review' which contains textual data so we will convert that text review into numeric review so that we can use it in our feature selection as it would be very helpful to know which review is providing recommendation. For this whole process we use `NLP(NATURAL LANGUAGE PROCESSING)` for reviews."
      ],
      "metadata": {
        "id": "q8v1amurRXFe"
      }
    },
    {
      "cell_type": "code",
      "source": [
        "# Install vaderSentiment package\n",
        "!pip install vaderSentiment"
      ],
      "metadata": {
        "id": "znGGtXYXbghb"
      },
      "execution_count": null,
      "outputs": []
    },
    {
      "cell_type": "code",
      "source": [
        "# Importing SentimentIntensityAnalyzer class for NLP\n",
        "from vaderSentiment.vaderSentiment import SentimentIntensityAnalyzer"
      ],
      "metadata": {
        "id": "6MIVBB2PcN8g"
      },
      "execution_count": null,
      "outputs": []
    },
    {
      "cell_type": "code",
      "source": [
        "#creating function to get sentiment score for review\n",
        "def sentiment_scores(sentence):\n",
        "\n",
        "    # Create a SentimentIntensityAnalyzer object.\n",
        "    sid_obj = SentimentIntensityAnalyzer()\n",
        "\n",
        "    #scorring each reviews depending on their polarity\n",
        "    sentiment_dict = sid_obj.polarity_scores(sentence)\n",
        "\n",
        "    return  sentiment_dict['compound']"
      ],
      "metadata": {
        "id": "CuLkCeqWboTV"
      },
      "execution_count": null,
      "outputs": []
    },
    {
      "cell_type": "code",
      "source": [
        "# creating numeric review column to store polarity for each customer review\n",
        "airline_df['numeric_review'] = airline_df['customer_review'].apply(sentiment_scores)"
      ],
      "metadata": {
        "id": "OWBGN_jHbqUj"
      },
      "execution_count": null,
      "outputs": []
    },
    {
      "cell_type": "code",
      "source": [
        "airline_df[['customer_review','numeric_review']].head(10)"
      ],
      "metadata": {
        "id": "Zj7b9JxgbsU1"
      },
      "execution_count": null,
      "outputs": []
    },
    {
      "cell_type": "markdown",
      "source": [
        "### 5. Feature Manipulation & Selection"
      ],
      "metadata": {
        "id": "-oLEiFgy-5Pf"
      }
    },
    {
      "cell_type": "markdown",
      "source": [
        "#### 1. Feature Manipulation"
      ],
      "metadata": {
        "id": "C74aWNz2AliB"
      }
    },
    {
      "cell_type": "code",
      "source": [
        "airline_df.head().T"
      ],
      "metadata": {
        "id": "etBRoE-XgAFE"
      },
      "execution_count": null,
      "outputs": []
    },
    {
      "cell_type": "code",
      "source": [
        "# Manipulate Features to minimize feature correlation and create new features\n",
        "#drop unnecessary columns,which are not for our use\n",
        "airline_df = airline_df.drop(['author','review_date','date_flown','customer_review', 'month', 'flight_year','flight_month','arrival_city','departure_city'],axis=1)\n"
      ],
      "metadata": {
        "id": "h1qC4yhBApWC"
      },
      "execution_count": null,
      "outputs": []
    },
    {
      "cell_type": "markdown",
      "source": [
        "#### 2. Feature Selection"
      ],
      "metadata": {
        "id": "2DejudWSA-a0"
      }
    },
    {
      "cell_type": "code",
      "source": [
        "# Select your features wisely to avoid overfitting\n",
        "\n",
        "# Separate the feature matrix 'X' and the target variable 'y'\n",
        "X = airline_df.drop(columns=['recommended'])\n",
        "y = airline_df['recommended']\n",
        "\n",
        "# Number of top features to select\n",
        "k = 11\n",
        "\n",
        "# Perform feature selection using ANOVA\n",
        "selector = SelectKBest(score_func=f_regression, k=k)\n",
        "X_selected = selector.fit_transform(X, y)\n",
        "\n",
        "# Get the indices of the selected features\n",
        "selected_feature_indices = selector.get_support(indices=True)\n",
        "\n",
        "# Get the names of the selected features\n",
        "selected_feature_names = X.columns[selected_feature_indices]\n",
        "selected_feature_scores = selector.scores_[selected_feature_indices]\n",
        "# Now, 'X_selected' contains only the selected features, and 'selected_feature_names' contains their names.\n",
        "# Print the selected features and their corresponding ANOVA F-values\n",
        "print(\"Selected Features:\")\n",
        "for feature, score in zip(selected_feature_names, selected_feature_scores):\n",
        "    print(f\"{feature}: ANOVA F-value = {score}\")"
      ],
      "metadata": {
        "id": "YLhe8UmaBCEE"
      },
      "execution_count": null,
      "outputs": []
    },
    {
      "cell_type": "markdown",
      "source": [
        "##### What all feature selection methods have you used  and why?"
      ],
      "metadata": {
        "id": "pEMng2IbBLp7"
      }
    },
    {
      "cell_type": "markdown",
      "metadata": {
        "id": "fLAyu97xjPHB"
      },
      "source": [
        "In the code for feature selection in the merged dataset, we used the SelectKBest method with the ANOVA (Analysis of Variance) score function. Let's discuss the feature selection methods used and the reasons for choosing them:\n",
        "\n",
        "SelectKBest with ANOVA: SelectKBest is a feature selection method from scikit-learn that selects the top 'k' features based on univariate statistical tests. The ANOVA score function is used specifically for regression tasks (predicting continuous target variables) and evaluates the relationship between each feature and the target variable using ANOVA F-values.\n",
        "\n",
        "Reason for using SelectKBest with ANOVA: We chose this method because the target variable 'Sales' is a continuous numerical variable in the regression task. The ANOVA F-values help us assess the statistical significance of each feature's relationship with the target. By selecting the top 'k' features, we aim to keep the most informative features and reduce the model's complexity, which can help prevent overfitting."
      ]
    },
    {
      "cell_type": "markdown",
      "source": [
        "##### Which all features you found important and why?"
      ],
      "metadata": {
        "id": "rAdphbQ9Bhjc"
      }
    },
    {
      "cell_type": "markdown",
      "source": [
        "Here are the selected features along with a brief explanation of why they might be important:\n",
        "\n",
        "1. airline: The airline a passenger chooses can significantly influence their overall experience. Different airlines might have different levels of service, amenities, and customer satisfaction.\n",
        "\n",
        "2. overall: The overall rating of a passenger's experience is a direct measure of their satisfaction. This is likely one of the most important features in understanding how well an airline is performing.\n",
        "\n",
        "3. traveller_type: Different types of travelers (business, family leisure, solo leisure, couple leisure) might have varying expectations and preferences, leading to differences in ratings and satisfaction.\n",
        "\n",
        "4. seat_comfort: Passenger comfort is a crucial aspect of air travel. Higher comfort ratings are likely associated with better seating arrangements and amenities.\n",
        "\n",
        "5. cabin_service: The quality of cabin service, including in-flight service, cleanliness, and attentiveness of staff, can significantly impact passenger satisfaction.\n",
        "\n",
        "6. food_bev: Food and beverage quality are important factors for passenger comfort and satisfaction during the flight.\n",
        "\n",
        "7. entertainment: In-flight entertainment options can enhance the overall travel experience, influencing passenger ratings and recommendations.\n",
        "\n",
        "8. ground_service: The quality of ground services, such as check-in, boarding, and baggage handling, can shape a passenger's perception of the airline.\n",
        "\n",
        "9. value_for_money: Passengers often consider the value they receive in relation to the price they paid. Higher value for money ratings suggest passengers feel their expenses were justified.\n",
        "\n",
        "10. numeric_review: It's unclear what this feature represents without more context. However, if it's derived from the customer review text, it could capture additional sentiment or insights not captured by the other numeric features."
      ],
      "metadata": {
        "id": "fGgaEstsBnaf"
      }
    },
    {
      "cell_type": "markdown",
      "source": [
        "### 6. Data Transformation"
      ],
      "metadata": {
        "id": "TNVZ9zx19K6k"
      }
    },
    {
      "cell_type": "markdown",
      "source": [
        "#### Do you think that your data needs to be transformed? If yes, which transformation have you used. Explain Why?"
      ],
      "metadata": {
        "id": "nqoHp30x9hH9"
      }
    },
    {
      "cell_type": "code",
      "source": [
        "# Transform Your data\n",
        "'we dont have much big data here, so dont need any tranformation'"
      ],
      "metadata": {
        "id": "I6quWQ1T9rtH"
      },
      "execution_count": null,
      "outputs": []
    },
    {
      "cell_type": "markdown",
      "source": [
        "### 7. Data Scaling"
      ],
      "metadata": {
        "id": "rMDnDkt2B6du"
      }
    },
    {
      "cell_type": "code",
      "source": [
        "# Scaling your data\n",
        "from sklearn.preprocessing import StandardScaler\n",
        "\n",
        "# Create a StandardScaler instance\n",
        "scaler = StandardScaler()\n",
        "\n",
        "# Fit and transform the feature matrix X, y\n",
        "X_scaled = scaler.fit_transform(X)\n",
        "#y_scaled = scaler.fit_transform(y)"
      ],
      "metadata": {
        "id": "dL9LWpySC6x_"
      },
      "execution_count": null,
      "outputs": []
    },
    {
      "cell_type": "markdown",
      "source": [
        "##### Which method have you used to scale you data and why?"
      ],
      "metadata": {
        "id": "yiiVWRdJDDil"
      }
    },
    {
      "cell_type": "markdown",
      "source": [
        "### 8. Dimesionality Reduction"
      ],
      "metadata": {
        "id": "1UUpS68QDMuG"
      }
    },
    {
      "cell_type": "markdown",
      "source": [
        "##### Do you think that dimensionality reduction is needed? Explain Why?"
      ],
      "metadata": {
        "id": "kexQrXU-DjzY"
      }
    },
    {
      "cell_type": "markdown",
      "source": [
        "not needed here."
      ],
      "metadata": {
        "id": "GGRlBsSGDtTQ"
      }
    },
    {
      "cell_type": "code",
      "source": [
        "# DImensionality Reduction (If needed)"
      ],
      "metadata": {
        "id": "kQfvxBBHDvCa"
      },
      "execution_count": null,
      "outputs": []
    },
    {
      "cell_type": "markdown",
      "source": [
        "##### Which dimensionality reduction technique have you used and why? (If dimensionality reduction done on dataset.)"
      ],
      "metadata": {
        "id": "T5CmagL3EC8N"
      }
    },
    {
      "cell_type": "markdown",
      "source": [
        "Answer Here."
      ],
      "metadata": {
        "id": "ZKr75IDuEM7t"
      }
    },
    {
      "cell_type": "markdown",
      "source": [
        "### 9. Data Splitting"
      ],
      "metadata": {
        "id": "BhH2vgX9EjGr"
      }
    },
    {
      "cell_type": "code",
      "source": [
        "# Split your data to train and test. Choose Splitting ratio wisely.\n",
        "# Split the data into train and test sets\n",
        "\n",
        "X_train, X_test, y_train, y_test = train_test_split(X, y, test_size=0.20, random_state = 0)\n",
        "print(X_train.shape)\n",
        "print(X_test.shape)\n"
      ],
      "metadata": {
        "id": "0CTyd2UwEyNM"
      },
      "execution_count": null,
      "outputs": []
    },
    {
      "cell_type": "markdown",
      "source": [
        "##### What data splitting ratio have you used and why?"
      ],
      "metadata": {
        "id": "qjKvONjwE8ra"
      }
    },
    {
      "cell_type": "markdown",
      "metadata": {
        "id": "E452Da9KtmQe"
      },
      "source": [
        "The test_size parameter in the train_test_split function controls the proportion of the data that should be allocated to the testing set when splitting the dataset into training and testing sets. In the above code, test_size=0.2 is used, which means that 20% of the data will be allocated to the testing set, and the remaining 80% will be used for training.The commonly used splitting ratios are 80:20 (test_size=0.2) and 70:30 (test_size=0.3). These ratios strike a good balance between having enough data for training and obtaining a reliable evaluation on the testing set."
      ]
    },
    {
      "cell_type": "markdown",
      "source": [
        "## ***7. ML Model Implementation***"
      ],
      "metadata": {
        "id": "VfCC591jGiD4"
      }
    },
    {
      "cell_type": "markdown",
      "source": [
        "### ML Model - 1"
      ],
      "metadata": {
        "id": "OB4l2ZhMeS1U"
      }
    },
    {
      "cell_type": "code",
      "source": [
        "# ML Model - 1 Implementation\n",
        "\n",
        "# Fit the Algorithm\n",
        "\n",
        "# Predict on the model"
      ],
      "metadata": {
        "id": "7ebyywQieS1U"
      },
      "execution_count": null,
      "outputs": []
    },
    {
      "cell_type": "markdown",
      "source": [
        "#### 1. Explain the ML Model used and it's performance using Evaluation metric Score Chart."
      ],
      "metadata": {
        "id": "ArJBuiUVfxKd"
      }
    },
    {
      "cell_type": "code",
      "source": [
        "# Visualizing evaluation Metric Score chart"
      ],
      "metadata": {
        "id": "rqD5ZohzfxKe"
      },
      "execution_count": null,
      "outputs": []
    },
    {
      "cell_type": "markdown",
      "source": [
        "#### 2. Cross- Validation & Hyperparameter Tuning"
      ],
      "metadata": {
        "id": "4qY1EAkEfxKe"
      }
    },
    {
      "cell_type": "code",
      "source": [
        "# ML Model - 1 Implementation with hyperparameter optimization techniques (i.e., GridSearch CV, RandomSearch CV, Bayesian Optimization etc.)\n",
        "\n",
        "# Fit the Algorithm\n",
        "\n",
        "# Predict on the model"
      ],
      "metadata": {
        "id": "Dy61ujd6fxKe"
      },
      "execution_count": null,
      "outputs": []
    },
    {
      "cell_type": "markdown",
      "source": [
        "##### Which hyperparameter optimization technique have you used and why?"
      ],
      "metadata": {
        "id": "PiV4Ypx8fxKe"
      }
    },
    {
      "cell_type": "markdown",
      "source": [
        "Answer Here."
      ],
      "metadata": {
        "id": "negyGRa7fxKf"
      }
    },
    {
      "cell_type": "markdown",
      "source": [
        "##### Have you seen any improvement? Note down the improvement with updates Evaluation metric Score Chart."
      ],
      "metadata": {
        "id": "TfvqoZmBfxKf"
      }
    },
    {
      "cell_type": "markdown",
      "source": [
        "Answer Here."
      ],
      "metadata": {
        "id": "OaLui8CcfxKf"
      }
    },
    {
      "cell_type": "markdown",
      "source": [
        "### ML Model - 2"
      ],
      "metadata": {
        "id": "dJ2tPlVmpsJ0"
      }
    },
    {
      "cell_type": "markdown",
      "source": [
        "#### 1. Explain the ML Model used and it's performance using Evaluation metric Score Chart."
      ],
      "metadata": {
        "id": "JWYfwnehpsJ1"
      }
    },
    {
      "cell_type": "code",
      "source": [
        "# Visualizing evaluation Metric Score chart"
      ],
      "metadata": {
        "id": "yEl-hgQWpsJ1"
      },
      "execution_count": null,
      "outputs": []
    },
    {
      "cell_type": "markdown",
      "source": [
        "#### 2. Cross- Validation & Hyperparameter Tuning"
      ],
      "metadata": {
        "id": "-jK_YjpMpsJ2"
      }
    },
    {
      "cell_type": "code",
      "source": [
        "# ML Model - 1 Implementation with hyperparameter optimization techniques (i.e., GridSearch CV, RandomSearch CV, Bayesian Optimization etc.)\n",
        "\n",
        "# Fit the Algorithm\n",
        "\n",
        "# Predict on the model"
      ],
      "metadata": {
        "id": "Dn0EOfS6psJ2"
      },
      "execution_count": null,
      "outputs": []
    },
    {
      "cell_type": "markdown",
      "source": [
        "##### Which hyperparameter optimization technique have you used and why?"
      ],
      "metadata": {
        "id": "HAih1iBOpsJ2"
      }
    },
    {
      "cell_type": "markdown",
      "source": [
        "Answer Here."
      ],
      "metadata": {
        "id": "9kBgjYcdpsJ2"
      }
    },
    {
      "cell_type": "markdown",
      "source": [
        "##### Have you seen any improvement? Note down the improvement with updates Evaluation metric Score Chart."
      ],
      "metadata": {
        "id": "zVGeBEFhpsJ2"
      }
    },
    {
      "cell_type": "markdown",
      "source": [
        "Answer Here."
      ],
      "metadata": {
        "id": "74yRdG6UpsJ3"
      }
    },
    {
      "cell_type": "markdown",
      "source": [
        "#### 3. Explain each evaluation metric's indication towards business and the business impact pf the ML model used."
      ],
      "metadata": {
        "id": "bmKjuQ-FpsJ3"
      }
    },
    {
      "cell_type": "markdown",
      "source": [
        "Answer Here."
      ],
      "metadata": {
        "id": "BDKtOrBQpsJ3"
      }
    },
    {
      "cell_type": "markdown",
      "source": [
        "### ML Model - 3"
      ],
      "metadata": {
        "id": "Fze-IPXLpx6K"
      }
    },
    {
      "cell_type": "code",
      "source": [
        "# ML Model - 3 Implementation\n",
        "\n",
        "# Fit the Algorithm\n",
        "\n",
        "# Predict on the model"
      ],
      "metadata": {
        "id": "FFrSXAtrpx6M"
      },
      "execution_count": null,
      "outputs": []
    },
    {
      "cell_type": "markdown",
      "source": [
        "#### 1. Explain the ML Model used and it's performance using Evaluation metric Score Chart."
      ],
      "metadata": {
        "id": "7AN1z2sKpx6M"
      }
    },
    {
      "cell_type": "code",
      "source": [
        "# Visualizing evaluation Metric Score chart"
      ],
      "metadata": {
        "id": "xIY4lxxGpx6M"
      },
      "execution_count": null,
      "outputs": []
    },
    {
      "cell_type": "markdown",
      "source": [
        "#### 2. Cross- Validation & Hyperparameter Tuning"
      ],
      "metadata": {
        "id": "9PIHJqyupx6M"
      }
    },
    {
      "cell_type": "code",
      "source": [
        "# ML Model - 3 Implementation with hyperparameter optimization techniques (i.e., GridSearch CV, RandomSearch CV, Bayesian Optimization etc.)\n",
        "\n",
        "# Fit the Algorithm\n",
        "\n",
        "# Predict on the model"
      ],
      "metadata": {
        "id": "eSVXuaSKpx6M"
      },
      "execution_count": null,
      "outputs": []
    },
    {
      "cell_type": "markdown",
      "source": [
        "##### Which hyperparameter optimization technique have you used and why?"
      ],
      "metadata": {
        "id": "_-qAgymDpx6N"
      }
    },
    {
      "cell_type": "markdown",
      "source": [
        "Answer Here."
      ],
      "metadata": {
        "id": "lQMffxkwpx6N"
      }
    },
    {
      "cell_type": "markdown",
      "source": [
        "##### Have you seen any improvement? Note down the improvement with updates Evaluation metric Score Chart."
      ],
      "metadata": {
        "id": "Z-hykwinpx6N"
      }
    },
    {
      "cell_type": "markdown",
      "source": [
        "Answer Here."
      ],
      "metadata": {
        "id": "MzVzZC6opx6N"
      }
    },
    {
      "cell_type": "markdown",
      "source": [
        "### 1. Which Evaluation metrics did you consider for a positive business impact and why?"
      ],
      "metadata": {
        "id": "h_CCil-SKHpo"
      }
    },
    {
      "cell_type": "markdown",
      "source": [
        "Answer Here."
      ],
      "metadata": {
        "id": "jHVz9hHDKFms"
      }
    },
    {
      "cell_type": "markdown",
      "source": [
        "### 2. Which ML model did you choose from the above created models as your final prediction model and why?"
      ],
      "metadata": {
        "id": "cBFFvTBNJzUa"
      }
    },
    {
      "cell_type": "markdown",
      "source": [
        "Answer Here."
      ],
      "metadata": {
        "id": "6ksF5Q1LKTVm"
      }
    },
    {
      "cell_type": "markdown",
      "source": [
        "### 3. Explain the model which you have used and the feature importance using any model explainability tool?"
      ],
      "metadata": {
        "id": "HvGl1hHyA_VK"
      }
    },
    {
      "cell_type": "markdown",
      "source": [
        "Answer Here."
      ],
      "metadata": {
        "id": "YnvVTiIxBL-C"
      }
    },
    {
      "cell_type": "markdown",
      "source": [
        "## ***8.*** ***Future Work (Optional)***"
      ],
      "metadata": {
        "id": "EyNgTHvd2WFk"
      }
    },
    {
      "cell_type": "markdown",
      "source": [
        "### 1. Save the best performing ml model in a pickle file or joblib file format for deployment process.\n"
      ],
      "metadata": {
        "id": "KH5McJBi2d8v"
      }
    },
    {
      "cell_type": "code",
      "source": [
        "# Save the File"
      ],
      "metadata": {
        "id": "bQIANRl32f4J"
      },
      "execution_count": null,
      "outputs": []
    },
    {
      "cell_type": "markdown",
      "source": [
        "### 2. Again Load the saved model file and try to predict unseen data for a sanity check.\n"
      ],
      "metadata": {
        "id": "iW_Lq9qf2h6X"
      }
    },
    {
      "cell_type": "code",
      "source": [
        "# Load the File and predict unseen data."
      ],
      "metadata": {
        "id": "oEXk9ydD2nVC"
      },
      "execution_count": null,
      "outputs": []
    },
    {
      "cell_type": "markdown",
      "source": [
        "### ***Congrats! Your model is successfully created and ready for deployment on a live server for a real user interaction !!!***"
      ],
      "metadata": {
        "id": "-Kee-DAl2viO"
      }
    },
    {
      "cell_type": "markdown",
      "source": [
        "# **Conclusion**"
      ],
      "metadata": {
        "id": "gCX9965dhzqZ"
      }
    },
    {
      "cell_type": "markdown",
      "source": [
        "Write the conclusion here."
      ],
      "metadata": {
        "id": "Fjb1IsQkh3yE"
      }
    },
    {
      "cell_type": "markdown",
      "source": [
        "### ***Hurrah! You have successfully completed your Machine Learning Capstone Project !!!***"
      ],
      "metadata": {
        "id": "gIfDvo9L0UH2"
      }
    }
  ]
}